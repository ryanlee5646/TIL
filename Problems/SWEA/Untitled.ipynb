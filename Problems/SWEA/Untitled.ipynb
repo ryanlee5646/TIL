{
 "cells": [
  {
   "cell_type": "code",
   "execution_count": null,
   "metadata": {},
   "outputs": [],
   "source": [
    "# 10개의 수를 입력 받아, 평균값을 출력하는 프로그램을 작성하라.\n",
    "# 가장 첫 줄에는 테스트 케이스의 개수 T가 주어지고, 그 아래로 각 테스트 케이스가 주어진다.\n",
    "# 각 테스트 케이스의 첫 번째 줄에는 10개의 수가 주어진다.\n",
    "# (소수점 첫째 자리에서 반올림한 정수를 출력한다.)\n",
    "\n",
    "T = int(input())\n",
    "result = []\n",
    "num = []\n",
    "for i in range(T):\n",
    "    num = list(map(int, input().split()))\n",
    "    result.append(int(round(sum(num)/len(num))))\n",
    "for j, n in enumerate(result):\n",
    "    print(f'#{j+1} {n:.1f}')"
   ]
  },
  {
   "cell_type": "code",
   "execution_count": 5,
   "metadata": {},
   "outputs": [
    {
     "name": "stdout",
     "output_type": "stream",
     "text": [
      "3\n",
      "1 2 3 4 56 7\n",
      "1 2 3 5 9 7\n",
      "3 6 5\n",
      "[11, 25, 8]\n",
      "#1 11\n",
      "#2 25\n",
      "#3 8\n"
     ]
    }
   ],
   "source": [
    "\n",
    "result = []\n",
    "num = []\n",
    "evens = 0\n",
    "T = int(input())\n",
    "for i in range(T):\n",
    "    num = list(map(int, input().split()))\n",
    "    for even in num:\n",
    "        if even % 2 == 1:\n",
    "            evens += even    \n",
    "    result.append(evens)\n",
    "    evens = 0\n",
    "print(result)\n",
    "for j, n in enumerate(result):\n",
    "    print(f'#{j+1} {n}')"
   ]
  },
  {
   "cell_type": "code",
   "execution_count": null,
   "metadata": {},
   "outputs": [],
   "source": [
    "print(type(num[1]))"
   ]
  },
  {
   "cell_type": "code",
   "execution_count": 4,
   "metadata": {},
   "outputs": [
    {
     "name": "stdout",
     "output_type": "stream",
     "text": [
      "3\n",
      "1 2 3 4 5\n",
      "#1 9\n",
      "25 12\n",
      "#2 25\n",
      "13 1 2\n",
      "#3 14\n"
     ]
    }
   ],
   "source": [
    "num = []\n",
    "evens = 0\n",
    "T = int(input())\n",
    "for i in range(T):\n",
    "    num = list(map(int, input().split()))\n",
    "    for even in num:\n",
    "        if even % 2 == 1:\n",
    "            evens += even    \n",
    "    print(f'#{i+1} {evens}')    \n",
    "    evens = 0\n",
    "    \n",
    "    \n"
   ]
  },
  {
   "cell_type": "code",
   "execution_count": 5,
   "metadata": {},
   "outputs": [
    {
     "name": "stdout",
     "output_type": "stream",
     "text": [
      "82\n",
      "82.00 ℃ =>  27.78 ℉\n"
     ]
    }
   ],
   "source": [
    "f = int(input())\n",
    "c = (f - 32) / 1.8\n",
    "print(f'{f:.2f} ℃ =>  {c:.2f} ℉')\n",
    "\n",
    "\n"
   ]
  },
  {
   "cell_type": "code",
   "execution_count": null,
   "metadata": {},
   "outputs": [],
   "source": []
  }
 ],
 "metadata": {
  "kernelspec": {
   "display_name": "Python 3",
   "language": "python",
   "name": "python3"
  },
  "language_info": {
   "codemirror_mode": {
    "name": "ipython",
    "version": 3
   },
   "file_extension": ".py",
   "mimetype": "text/x-python",
   "name": "python",
   "nbconvert_exporter": "python",
   "pygments_lexer": "ipython3",
   "version": "3.7.1"
  }
 },
 "nbformat": 4,
 "nbformat_minor": 2
}
