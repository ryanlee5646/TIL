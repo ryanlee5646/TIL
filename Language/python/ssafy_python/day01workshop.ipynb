{
 "cells": [
  {
   "cell_type": "code",
   "execution_count": 1,
   "metadata": {},
   "outputs": [
    {
     "name": "stdout",
     "output_type": "stream",
     "text": [
      "*****\n",
      "*****\n",
      "*****\n",
      "*****\n",
      "*****\n",
      "*****\n",
      "*****\n",
      "*****\n",
      "*****\n",
      "\n",
      "평균점수: 87.75\n",
      "{'A': 3, 'B': 3, 'O': 3, 'AB': 3}\n",
      "\n",
      "A형:3명, B형:3명, \n",
      "O형:3명, AB형:3명\n",
      "\n"
     ]
    }
   ],
   "source": [
    "#두 개의 정수 n과 m이 주어집니다. 반복문을 사용하지 않고 별(*) 문자를 이용해 가로\n",
    "#의 길이가 n, 세로의 길이가 m인 직사각형 형태를 출력해보세요.\n",
    "n = 5\n",
    "m = 9\n",
    "print((f'*'*n+'\\n')*m)\n",
    "\n",
    "\n",
    "\n",
    "#다음 딕셔너리에서 평균 점수를 출력하시오.\n",
    "student = {'python':80, 'algorithm':99, 'django':89, 'flask':83}\n",
    "total = sum(student.values())\n",
    "average = total / len(student)\n",
    "print(f\"평균점수: {average}\")\n",
    "\n",
    "#다음은 학생들의 혈액형(A, B, AB, O)에 대한 데이터이다. for문을 이용하여 각 혈액형\n",
    "#별 학생수의 합계를 구하시오.\n",
    "blood_types = ['A', 'B', 'A', 'O', 'AB', 'AB', 'O', 'A', 'B', 'O', 'B', 'AB']\n",
    "result = {}\n",
    "for blood_type in blood_types:\n",
    "    if blood_type in result:\n",
    "        result[blood_type] += 1\n",
    "    else:\n",
    "        result[blood_type] = 1\n",
    "print(result)        \n",
    "\n",
    "\n",
    "# blood_types = ['A', 'B', 'A', 'O', 'AB', 'AB', 'O', 'A', 'B', 'O', 'B', 'AB']\n",
    "# bt_a = 0\n",
    "# bt_b = 0\n",
    "# bt_o = 0\n",
    "# bt_ab = 0\n",
    "# for i in blood_types:\n",
    "#     if i == 'A':\n",
    "#         bt_a += 1\n",
    "#     elif i == 'B':\n",
    "#         bt_b += 1\n",
    "#     elif i == 'O':\n",
    "#         bt_o += 1\n",
    "#     else:\n",
    "#         bt_ab += 1   \n",
    "# print(f\"\"\"A형:{bt_a}명, B형:{bt_b}명, O형:{bt_o}명, AB형:{bt_ab}명\"\"\")\n",
    "\n",
    "blood_types = ['A', 'B', 'A', 'O', 'AB', 'AB', 'O', 'A', 'B', 'O', 'B', 'AB']\n",
    "\n",
    "print(f\"\"\"\n",
    "A형:{blood_types.count('A')}명, B형:{blood_types.count('B')}명, \n",
    "O형:{blood_types.count('O')}명, AB형:{blood_types.count('AB')}명\n",
    "\"\"\")\n",
    "\n"
   ]
  },
  {
   "cell_type": "code",
   "execution_count": null,
   "metadata": {},
   "outputs": [],
   "source": []
  }
 ],
 "metadata": {
  "kernelspec": {
   "display_name": "Python 3",
   "language": "python",
   "name": "python3"
  },
  "language_info": {
   "codemirror_mode": {
    "name": "ipython",
    "version": 3
   },
   "file_extension": ".py",
   "mimetype": "text/x-python",
   "name": "python",
   "nbconvert_exporter": "python",
   "pygments_lexer": "ipython3",
   "version": "3.7.1"
  }
 },
 "nbformat": 4,
 "nbformat_minor": 2
}
