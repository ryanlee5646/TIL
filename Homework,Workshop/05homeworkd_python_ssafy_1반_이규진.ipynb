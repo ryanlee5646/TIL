{
 "cells": [
  {
   "cell_type": "code",
   "execution_count": 1,
   "metadata": {},
   "outputs": [
    {
     "name": "stdout",
     "output_type": "stream",
     "text": [
      "1\n",
      "2\n",
      "3\n",
      "4\n",
      "5\n",
      "6\n",
      "7\n"
     ]
    }
   ],
   "source": [
    "'''1. List는for 문을실행하면모든요소를순차적으로돌면서반복문을수행합니다.\n",
    "임의의리스트my_list의값을하나씩출력하는코드를아래에작성하시오.'''\n",
    "my_list = [1,2,3,4,5,6,7]\n",
    "for i in my_list:\n",
    "    print(i)\n"
   ]
  },
  {
   "cell_type": "code",
   "execution_count": 22,
   "metadata": {},
   "outputs": [
    {
     "name": "stdout",
     "output_type": "stream",
     "text": [
      "0 1\n",
      "1 2\n",
      "2 3\n",
      "3 4\n",
      "4 5\n",
      "5 6\n",
      "6 7\n"
     ]
    }
   ],
   "source": [
    "'''2. 위에작성한코드를인덱스(index)값과함께출력하는코드로변경하시오.'''\n",
    "#방법1\n",
    "my_list = [1,2,3,4,5,6,7]\n",
    "for j in range(len(my_list)):\n",
    "    print(j, my_list[j])\n",
    "#방법2\n",
    "\n",
    "        \n",
    "\n"
   ]
  },
  {
   "cell_type": "code",
   "execution_count": 20,
   "metadata": {},
   "outputs": [
    {
     "name": "stdout",
     "output_type": "stream",
     "text": [
      "0 1\n",
      "1 2\n",
      "2 3\n",
      "3 4\n",
      "4 5\n",
      "5 6\n",
      "6 7\n"
     ]
    }
   ],
   "source": []
  },
  {
   "cell_type": "code",
   "execution_count": 16,
   "metadata": {},
   "outputs": [
    {
     "data": {
      "text/plain": [
       "'3. 딕셔너리는key, value로구성되어있습니다.\\n따라서,딕셔너리my_dict각각의상황에따라반복문을수행할수있도록빈칸을채우시오.'"
      ]
     },
     "execution_count": 16,
     "metadata": {},
     "output_type": "execute_result"
    }
   ],
   "source": [
    "'''3. 딕셔너리는key, value로구성되어있습니다.\n",
    "따라서,딕셔너리my_dict각각의상황에따라반복문을수행할수있도록빈칸을채우시오.\n",
    "lunch = {\n",
    "    '중국집':'02-123-123',\n",
    "    '양식집':'054-123-123',\n",
    "    '한식집':'031-123-123'\n",
    "}\n",
    "key: for key in lunch\n",
    "value: for value in lunch.keys()\n",
    "key와 value: for key,value in lunch.items()\n",
    "'''\n"
   ]
  },
  {
   "cell_type": "code",
   "execution_count": 1,
   "metadata": {},
   "outputs": [
    {
     "name": "stdout",
     "output_type": "stream",
     "text": [
      "6\n"
     ]
    }
   ],
   "source": [
    "'''4. result에저장된값은?'''\n",
    "def my_func(a, b):\n",
    "    c = a + b\n",
    "    print(c)\n",
    "result = my_func(1, 5)\n",
    "'''None'''"
   ]
  },
  {
   "cell_type": "code",
   "execution_count": null,
   "metadata": {},
   "outputs": [],
   "source": []
  }
 ],
 "metadata": {
  "kernelspec": {
   "display_name": "Python 3",
   "language": "python",
   "name": "python3"
  },
  "language_info": {
   "codemirror_mode": {
    "name": "ipython",
    "version": 3
   },
   "file_extension": ".py",
   "mimetype": "text/x-python",
   "name": "python",
   "nbconvert_exporter": "python",
   "pygments_lexer": "ipython3",
   "version": "3.7.1"
  }
 },
 "nbformat": 4,
 "nbformat_minor": 2
}
