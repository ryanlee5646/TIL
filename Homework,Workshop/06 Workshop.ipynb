{
 "cells": [
  {
   "cell_type": "code",
   "execution_count": 16,
   "metadata": {},
   "outputs": [],
   "source": [
    "def binary_search(num):\n",
    "    low = 1\n",
    "    high = num\n",
    "    result = 1\n",
    "    while abs(result**2 - num) > 0.001:\n",
    "        result = (low+high)/2\n",
    "        if result**2 < num:\n",
    "            low = result\n",
    "        else: \n",
    "            high = result\n",
    "    return result\n",
    "            "
   ]
  },
  {
   "cell_type": "code",
   "execution_count": 19,
   "metadata": {},
   "outputs": [
    {
     "name": "stdout",
     "output_type": "stream",
     "text": [
      "1.4140625\n"
     ]
    }
   ],
   "source": [
    "print(binary_search(2))"
   ]
  },
  {
   "cell_type": "code",
   "execution_count": 18,
   "metadata": {},
   "outputs": [
    {
     "name": "stdout",
     "output_type": "stream",
     "text": [
      "1.73193359375\n"
     ]
    }
   ],
   "source": [
    "\n",
    "print(binary_search(3))\n",
    "\n"
   ]
  },
  {
   "cell_type": "code",
   "execution_count": null,
   "metadata": {},
   "outputs": [],
   "source": [
    "def my_mul(a,b=1):\n",
    "    return a*b\n",
    "print(my_mul(6))"
   ]
  },
  {
   "cell_type": "code",
   "execution_count": 32,
   "metadata": {},
   "outputs": [],
   "source": [
    "def binary_search(num):\n",
    "    low = 1\n",
    "    high = num\n",
    "    result = 1\n",
    "    count = 0\n",
    "# import math\n",
    "#     while not math.isclose(result**2,num):\n",
    "    while abs(result**2 - num) > 0.022:\n",
    "        result = (low+high) / 2\n",
    "        count+=1\n",
    "        print(result)\n",
    "        if result**2 < num:\n",
    "            low = result\n",
    "            print(f\"작은값:{low}\")\n",
    "        else:\n",
    "            high = result\n",
    "            print(f\"높은값:{high}\")\n",
    "    return (result, count)"
   ]
  },
  {
   "cell_type": "code",
   "execution_count": 33,
   "metadata": {},
   "outputs": [
    {
     "name": "stdout",
     "output_type": "stream",
     "text": [
      "1.5\n",
      "높은값:1.5\n",
      "1.25\n",
      "작은값:1.25\n",
      "1.375\n",
      "작은값:1.375\n",
      "1.4375\n",
      "높은값:1.4375\n",
      "1.40625\n",
      "작은값:1.40625\n",
      "1.421875\n",
      "높은값:1.421875\n",
      "(1.421875, 6)\n"
     ]
    }
   ],
   "source": [
    "print(binary_search(2))"
   ]
  },
  {
   "cell_type": "code",
   "execution_count": null,
   "metadata": {},
   "outputs": [],
   "source": []
  }
 ],
 "metadata": {
  "kernelspec": {
   "display_name": "Python 3",
   "language": "python",
   "name": "python3"
  },
  "language_info": {
   "codemirror_mode": {
    "name": "ipython",
    "version": 3
   },
   "file_extension": ".py",
   "mimetype": "text/x-python",
   "name": "python",
   "nbconvert_exporter": "python",
   "pygments_lexer": "ipython3",
   "version": "3.7.1"
  }
 },
 "nbformat": 4,
 "nbformat_minor": 2
}
