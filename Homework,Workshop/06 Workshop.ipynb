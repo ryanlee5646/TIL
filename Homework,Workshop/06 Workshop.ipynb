{
 "cells": [
  {
   "cell_type": "code",
   "execution_count": 9,
   "metadata": {},
   "outputs": [],
   "source": [
    "def binary_search(num):\n",
    "    low = 1\n",
    "    high = num\n",
    "    result = 1\n",
    "    while abs(high-low) > 0.000001:\n",
    "        result = (low+high)/2\n",
    "        if result**2 < num:\n",
    "            low = result\n",
    "        else: \n",
    "            high = result\n",
    "    return result\n",
    "            "
   ]
  },
  {
   "cell_type": "code",
   "execution_count": 10,
   "metadata": {},
   "outputs": [
    {
     "name": "stdout",
     "output_type": "stream",
     "text": [
      "1.4142141342163086\n"
     ]
    }
   ],
   "source": [
    "print(binary_search(2))"
   ]
  },
  {
   "cell_type": "code",
   "execution_count": null,
   "metadata": {},
   "outputs": [],
   "source": [
    "\n",
    "print(binary_search(3))\n",
    "\n"
   ]
  },
  {
   "cell_type": "code",
   "execution_count": null,
   "metadata": {},
   "outputs": [],
   "source": [
    "def my_mul(a,b=1):\n",
    "    return a*b\n",
    "print(my_mul(6))"
   ]
  },
  {
   "cell_type": "code",
   "execution_count": 3,
   "metadata": {},
   "outputs": [],
   "source": [
    "def binary_search(num):\n",
    "    low = 1\n",
    "    high = num\n",
    "    result = 1\n",
    "    count = 0\n",
    "# import math\n",
    "#     while not math.isclose(result**2,num):\n",
    "    while abs(result**2 - num) > 0.001:\n",
    "        result = (low+high) / 2\n",
    "        count+=1\n",
    "        print(result)\n",
    "        if result**2 < num:\n",
    "            low = result\n",
    "            print(f\"low:{low}\")\n",
    "        else:\n",
    "            high = result\n",
    "            print(f\"high:{high}\")\n",
    "    return (result, count)"
   ]
  },
  {
   "cell_type": "code",
   "execution_count": 4,
   "metadata": {},
   "outputs": [
    {
     "name": "stdout",
     "output_type": "stream",
     "text": [
      "1.5\n",
      "high:1.5\n",
      "1.25\n",
      "low:1.25\n",
      "1.375\n",
      "low:1.375\n",
      "1.4375\n",
      "high:1.4375\n",
      "1.40625\n",
      "low:1.40625\n",
      "1.421875\n",
      "high:1.421875\n",
      "1.4140625\n",
      "low:1.4140625\n",
      "(1.4140625, 7)\n"
     ]
    }
   ],
   "source": [
    "print(binary_search(2))"
   ]
  },
  {
   "cell_type": "code",
   "execution_count": 14,
   "metadata": {},
   "outputs": [
    {
     "name": "stdout",
     "output_type": "stream",
     "text": [
      "True\n"
     ]
    }
   ],
   "source": [
    "def abc(name):\n",
    "    return name == name[::-1]\n",
    "print(abc('aba'))"
   ]
  },
  {
   "cell_type": "code",
   "execution_count": null,
   "metadata": {},
   "outputs": [],
   "source": []
  }
 ],
 "metadata": {
  "kernelspec": {
   "display_name": "Python 3",
   "language": "python",
   "name": "python3"
  },
  "language_info": {
   "codemirror_mode": {
    "name": "ipython",
    "version": 3
   },
   "file_extension": ".py",
   "mimetype": "text/x-python",
   "name": "python",
   "nbconvert_exporter": "python",
   "pygments_lexer": "ipython3",
   "version": "3.7.1"
  }
 },
 "nbformat": 4,
 "nbformat_minor": 2
}
