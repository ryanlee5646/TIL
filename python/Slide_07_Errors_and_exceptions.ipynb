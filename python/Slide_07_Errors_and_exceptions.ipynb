{
 "cells": [
  {
   "cell_type": "markdown",
   "metadata": {},
   "source": [
    "# Errors and Exceptions\n",
    "\n",
    "* 발생할 수 있는 오류와 예외처리를 확인해봅시다.\n",
    "\n",
    "## 문법 에러(Syntax Error)\n",
    "\n",
    "* 가장 많이 만날 수 있는 에러로 발생한 `파일 이름`과 `줄`, `^`을 통해 파이썬이 읽어 들일 때(parser)의 문제 발생 위치를 표현한다."
   ]
  },
  {
   "cell_type": "code",
   "execution_count": null,
   "metadata": {},
   "outputs": [],
   "source": [
    "# if문을 통해 발생시켜봅시다!\n",
    "if True"
   ]
  },
  {
   "cell_type": "code",
   "execution_count": null,
   "metadata": {},
   "outputs": [],
   "source": [
    "# print문을 통해 다른 오류를 발생시켜봅시다!\n",
    "# EOL 오류를 봅시다. (EOL = End of line 라인이 끝나지않음)\n",
    "print('hi)"
   ]
  },
  {
   "cell_type": "code",
   "execution_count": null,
   "metadata": {},
   "outputs": [],
   "source": [
    "# EOF 에러도 보게 됩니다. (EOF = End of File )\n",
    "print('h'"
   ]
  },
  {
   "cell_type": "markdown",
   "metadata": {},
   "source": [
    "* 정확한 위치를 지정하지 않을 수도 있으므로 앞뒤로 모두 확인을 해봐야합니다."
   ]
  },
  {
   "cell_type": "code",
   "execution_count": null,
   "metadata": {},
   "outputs": [],
   "source": [
    "if True print('참')"
   ]
  },
  {
   "cell_type": "markdown",
   "metadata": {},
   "source": [
    "## 예외 (Exceptions)\n",
    "\n",
    "* 문법이나 표현식이 바르게 되어있지만, 실행시 발생하는 에러입니다.\n",
    "\n",
    "* 아래 제시된 모든 에러는 Exception을 상속받아 이뤄집니다."
   ]
  },
  {
   "cell_type": "code",
   "execution_count": null,
   "metadata": {},
   "outputs": [],
   "source": [
    "# ZeroDivisionError를 확인해봅시다.\n",
    "10 *(1/0)\n",
    "\n",
    "# 0으로 나눌 수는 없죠!"
   ]
  },
  {
   "cell_type": "code",
   "execution_count": null,
   "metadata": {},
   "outputs": [],
   "source": [
    "# NameError를 확인해봅시다. \n",
    "print(abc)\n",
    "\n",
    "# 지역 혹은 전역 이름 공간내에서 유효하지 이름, 즉 정의되지 않은 변수를 호출 하였을 경우"
   ]
  },
  {
   "cell_type": "code",
   "execution_count": null,
   "metadata": {},
   "outputs": [],
   "source": [
    "# TypeError를 확인해봅시다.\n",
    "1 + '2'\n",
    "\n",
    "# 자료형에 대한 타입 자체가 잘못 되었을 경우"
   ]
  },
  {
   "cell_type": "code",
   "execution_count": null,
   "metadata": {},
   "outputs": [],
   "source": [
    "# 함수 호출과정에서 TypeError도 발생하게 됩니다. 확인해봅시다.\n",
    "round('3.5')"
   ]
  },
  {
   "cell_type": "code",
   "execution_count": null,
   "metadata": {},
   "outputs": [],
   "source": [
    "# 함수호출 과정에서 다양한 오류를 확인할 수 있습니다. : 필수 argument 누락 \n",
    "import random\n",
    "random.sample([1,2,3])"
   ]
  },
  {
   "cell_type": "code",
   "execution_count": null,
   "metadata": {},
   "outputs": [],
   "source": [
    "# 함수호출 과정에서 다양한 오류를 확인할 수 있습니다. : argument 많은 경우\n",
    "random.choice([1,2,3],2)"
   ]
  },
  {
   "cell_type": "code",
   "execution_count": null,
   "metadata": {},
   "outputs": [],
   "source": [
    "# ValueError를 확인해봅시다.\n",
    "int('3.5')\n",
    "\n",
    "# 자료형에 대한 타입은 올바르나 값이 적절하지 않는 경우"
   ]
  },
  {
   "cell_type": "code",
   "execution_count": null,
   "metadata": {},
   "outputs": [],
   "source": [
    "# ValueError를 확인해봅시다.\n",
    "a = [1, 2]\n",
    "a.index(3)\n",
    "\n",
    "# 값이 적절하지 않은 경우(값이 없는데 찾으려고함)"
   ]
  },
  {
   "cell_type": "code",
   "execution_count": null,
   "metadata": {},
   "outputs": [],
   "source": [
    "# IndexError를 확인해봅시다.\n",
    "a = [1,2]\n",
    "a[2]"
   ]
  },
  {
   "cell_type": "code",
   "execution_count": null,
   "metadata": {},
   "outputs": [],
   "source": [
    "# KeyError를 확인해봅시다. \n",
    "a = {'sia': 'candy cane lane'}\n",
    "a['queen']\n",
    "# 딕셔너리에서 Key가 없는 경우 발생합니다."
   ]
  },
  {
   "cell_type": "code",
   "execution_count": null,
   "metadata": {},
   "outputs": [],
   "source": [
    "# ModuleNotFoundError를 확인해봅시다.\n",
    "import requ\n",
    "\n",
    "# 모듈을 찾을 수 없는 경우 "
   ]
  },
  {
   "cell_type": "code",
   "execution_count": null,
   "metadata": {},
   "outputs": [],
   "source": [
    "# ImoprtError를 확인해봅시다.\n",
    "from random import ran\n",
    "\n",
    "# 모듈을 찾았으나 가져오는 과정에서 실패하는 경우(대부분 없는 클래스/메소드를 불러옴)"
   ]
  },
  {
   "cell_type": "code",
   "execution_count": null,
   "metadata": {},
   "outputs": [],
   "source": [
    "# KeyboardInterrupt를 확인해봅시다. \n",
    "while True:\n",
    "    continue\n",
    "    \n",
    "# 주피터 노트북에서는 정지 버튼이지만, 실제로 우리가 돌릴 때는 ctrl+c를 통해 종료하였을 때 발생"
   ]
  },
  {
   "cell_type": "markdown",
   "metadata": {},
   "source": [
    "# 예외 처리 \n",
    "\n",
    "## 기본  - `try` `except`\n",
    "`try` 구문을 이용하여 예외 처리를 할 수 있습니다.\n",
    "\n",
    "기본은 다음과 같은 구조를 가지고 있습니다.\n",
    "\n",
    "```python\n",
    "try:\n",
    "    codeblock1\n",
    "except 예외:\n",
    "    codeblock2\n",
    "```\n",
    "\n",
    "* `try`절이 실행됩니다. \n",
    "\n",
    "* 예외가 발생되지 않으면, `except`없이 실행이 종료가 됩니다.\n",
    "\n",
    "* 예외가 중간에 발생하면, 남은 부분을 수행하지 않고, `except`가 실행됩니다."
   ]
  },
  {
   "cell_type": "code",
   "execution_count": 5,
   "metadata": {},
   "outputs": [
    {
     "name": "stdout",
     "output_type": "stream",
     "text": [
      "값을 입력하시오: zsd\n"
     ]
    },
    {
     "ename": "ValueError",
     "evalue": "invalid literal for int() with base 10: 'zsd'",
     "output_type": "error",
     "traceback": [
      "\u001b[1;31m---------------------------------------------------------------------------\u001b[0m",
      "\u001b[1;31mValueError\u001b[0m                                Traceback (most recent call last)",
      "\u001b[1;32m<ipython-input-5-d970c85ef177>\u001b[0m in \u001b[0;36m<module>\u001b[1;34m\u001b[0m\n\u001b[0;32m      1\u001b[0m \u001b[1;31m# 사용자로부터 값을 받아 정수로 변환하여 출력해봅시다.\u001b[0m\u001b[1;33m\u001b[0m\u001b[1;33m\u001b[0m\u001b[1;33m\u001b[0m\u001b[0m\n\u001b[0;32m      2\u001b[0m \u001b[0mnum\u001b[0m \u001b[1;33m=\u001b[0m \u001b[0minput\u001b[0m\u001b[1;33m(\u001b[0m\u001b[1;34m'값을 입력하시오: '\u001b[0m\u001b[1;33m)\u001b[0m\u001b[1;33m\u001b[0m\u001b[1;33m\u001b[0m\u001b[0m\n\u001b[1;32m----> 3\u001b[1;33m \u001b[0mprint\u001b[0m\u001b[1;33m(\u001b[0m\u001b[0mint\u001b[0m\u001b[1;33m(\u001b[0m\u001b[0mnum\u001b[0m\u001b[1;33m)\u001b[0m\u001b[1;33m)\u001b[0m\u001b[1;33m\u001b[0m\u001b[1;33m\u001b[0m\u001b[0m\n\u001b[0m",
      "\u001b[1;31mValueError\u001b[0m: invalid literal for int() with base 10: 'zsd'"
     ]
    }
   ],
   "source": [
    "# 사용자로부터 값을 받아 정수로 변환하여 출력해봅시다.\n",
    "num = input('값을 입력하시오: ')\n",
    "print(int(num))"
   ]
  },
  {
   "cell_type": "code",
   "execution_count": 7,
   "metadata": {},
   "outputs": [
    {
     "name": "stdout",
     "output_type": "stream",
     "text": [
      "값을 입력하시오: ㄴㅇㄹ\n",
      "바보야 숫자를 입력해!\n"
     ]
    }
   ],
   "source": [
    "# 사용자가 문자열을 넣어 해당 오류(ValueError)가 발생하면, 숫자를 입력하라고 출력해봅시다.\n",
    "try:\n",
    "    num = input('값을 입력하시오: ')\n",
    "    print(int(num))\n",
    "    print(num)  # 이자리는 문자를 입력해도 출려이 되야하지만 위에 코드에서 에러처리되어 except로 빠짐\n",
    "except ValueError:\n",
    "    print('바보야 숫자를 입력해!')"
   ]
  },
  {
   "cell_type": "code",
   "execution_count": null,
   "metadata": {},
   "outputs": [],
   "source": [
    "# Error 발생 시점 이후의 코드는 실행되지 않고, except로 바로 넘어갑니다."
   ]
  },
  {
   "cell_type": "markdown",
   "metadata": {},
   "source": [
    "## 복수의 예외 처리\n",
    "\n",
    "* 두 가지 예외를 모두 처리할 수 있습니다. \n",
    "\n",
    "```python\n",
    "try:\n",
    "    codeblock1\n",
    "except (예외1, 예외2):\n",
    "    codeblock2\n",
    "```"
   ]
  },
  {
   "cell_type": "code",
   "execution_count": 8,
   "metadata": {},
   "outputs": [
    {
     "name": "stdout",
     "output_type": "stream",
     "text": [
      "값을 입력하시오 :15\n",
      "6.666666666666667\n"
     ]
    }
   ],
   "source": [
    "# 100을 사용자가 입력한 값으로 나눈 후 출력하는 코드를 작성해봅시다.\n",
    "num = input('값을 입력하시오 :')\n",
    "print(100/int(num))"
   ]
  },
  {
   "cell_type": "code",
   "execution_count": 16,
   "metadata": {},
   "outputs": [
    {
     "name": "stdout",
     "output_type": "stream",
     "text": [
      "갑을 입력하시오 : ㅇㄴ\n",
      "바보?\n"
     ]
    }
   ],
   "source": [
    "# 문자열일때와 0일때 모두 처리를 해봅시다.\n",
    "try:\n",
    "    num = input('갑을 입력하시오 : ')\n",
    "    print(100/int(num))\n",
    "except (ValueError, ZeroDivisionError):\n",
    "    print('바보?')"
   ]
  },
  {
   "cell_type": "code",
   "execution_count": 20,
   "metadata": {},
   "outputs": [
    {
     "name": "stdout",
     "output_type": "stream",
     "text": [
      "갑을 입력하시오 : ''\n",
      "숫자를 넣어\n"
     ]
    }
   ],
   "source": [
    "# 각각 다른 오류를 출력할 수 있습니다.\n",
    "try:\n",
    "    num = input('갑을 입력하시오 : ')\n",
    "    print(100/int(num))\n",
    "except ValueError:\n",
    "    print('숫자를 넣어')\n",
    "except ZeroDivisionError:\n",
    "    print('0으로 나눌수 없어')\n",
    "except:\n",
    "    print('뭔지는 모르지만 오류야')"
   ]
  },
  {
   "cell_type": "markdown",
   "metadata": {},
   "source": [
    "* 여기서 중요한 내용은 에러가 순차적으로 수행됨으로, 가장 작은 범주부터 시작해야합니다."
   ]
  },
  {
   "cell_type": "code",
   "execution_count": 24,
   "metadata": {},
   "outputs": [
    {
     "name": "stdout",
     "output_type": "stream",
     "text": [
      "갑을 입력하시오 : 15\n",
      "6.666666666666667\n"
     ]
    }
   ],
   "source": [
    "try:\n",
    "    num = input('갑을 입력하시오 : ')\n",
    "    print(100/int(num))\n",
    "except Exception:\n",
    "    print('뭔지는 모르지만 오류야')\n",
    "except ValueError:\n",
    "    print('숫자를 넣어')\n",
    "\n"
   ]
  },
  {
   "cell_type": "markdown",
   "metadata": {},
   "source": [
    "## 에러 문구 처리\n",
    "\n",
    "* 에러 문구를 함께 넘겨줄 수 있습니다.\n",
    "\n",
    "```python\n",
    "try:\n",
    "    codeblock1\n",
    "except 예외 as e:\n",
    "    codeblock2\n",
    "```"
   ]
  },
  {
   "cell_type": "code",
   "execution_count": 26,
   "metadata": {},
   "outputs": [
    {
     "name": "stdout",
     "output_type": "stream",
     "text": [
      "list index out of range, 오류가 발생했습니다!!\n"
     ]
    }
   ],
   "source": [
    "# 에러 메세지를 넘겨줄 수도 있습니다.\n",
    "try:\n",
    "    a = [1,2]\n",
    "    print(a[3])\n",
    "except IndexError as e:\n",
    "    print(f'{e}, 오류가 발생했습니다!!')"
   ]
  },
  {
   "cell_type": "markdown",
   "metadata": {},
   "source": [
    "## `else`\n",
    "\n",
    "* 에러가 발생하지 않는 경우 수행되는 문장은 `else`를 이용합니다.\n",
    "\n",
    "```python\n",
    "try:\n",
    "    codeblock1\n",
    "except 예외:\n",
    "    codeblock2\n",
    "else:\n",
    "    codeblock3\n",
    "```"
   ]
  },
  {
   "cell_type": "code",
   "execution_count": 28,
   "metadata": {},
   "outputs": [
    {
     "name": "stdout",
     "output_type": "stream",
     "text": [
      "오류 발생\n"
     ]
    }
   ],
   "source": [
    "try:\n",
    "    a = [1,2,3]\n",
    "    b = a[6]\n",
    "except IndexError:\n",
    "    print('오류 발생')\n",
    "else:\n",
    "    print(b*100)"
   ]
  },
  {
   "cell_type": "markdown",
   "metadata": {},
   "source": [
    "## `finally` \n",
    "\n",
    "* 반드시 수행해야하는 문장은 `finally`를 활용합니다.\n",
    "\n",
    "```python\n",
    "try:\n",
    "    codeblock1\n",
    "except 예외:\n",
    "    codeblock2\n",
    "finally:\n",
    "    codeblock3\n",
    "```"
   ]
  },
  {
   "cell_type": "code",
   "execution_count": 29,
   "metadata": {},
   "outputs": [
    {
     "name": "stdout",
     "output_type": "stream",
     "text": [
      "딕셔너리에 없는 키입니다.\n",
      "{'python': 'good'}\n"
     ]
    }
   ],
   "source": [
    "try:\n",
    "    a = {'python': 'good'}\n",
    "    a['java']\n",
    "except KeyError:\n",
    "    print('딕셔너리에 없는 키입니다.')\n",
    "finally:\n",
    "    print(a)"
   ]
  },
  {
   "cell_type": "markdown",
   "metadata": {},
   "source": [
    "# 예외 발생시키기\n",
    "\n",
    "`raise`를 통해 예외를 발생시킬 수 있습니다."
   ]
  },
  {
   "cell_type": "code",
   "execution_count": 32,
   "metadata": {},
   "outputs": [
    {
     "ename": "ValueError",
     "evalue": "hi",
     "output_type": "error",
     "traceback": [
      "\u001b[1;31m---------------------------------------------------------------------------\u001b[0m",
      "\u001b[1;31mValueError\u001b[0m                                Traceback (most recent call last)",
      "\u001b[1;32m<ipython-input-32-7365820dd368>\u001b[0m in \u001b[0;36m<module>\u001b[1;34m\u001b[0m\n\u001b[1;32m----> 1\u001b[1;33m \u001b[1;32mraise\u001b[0m \u001b[0mValueError\u001b[0m\u001b[1;33m(\u001b[0m\u001b[1;34m'hi'\u001b[0m\u001b[1;33m)\u001b[0m\u001b[1;33m\u001b[0m\u001b[1;33m\u001b[0m\u001b[0m\n\u001b[0m",
      "\u001b[1;31mValueError\u001b[0m: hi"
     ]
    }
   ],
   "source": [
    "raise ValueError('hi')"
   ]
  },
  {
   "cell_type": "markdown",
   "metadata": {},
   "source": [
    "메세지를 함께 출력할 수 있습니다."
   ]
  },
  {
   "cell_type": "code",
   "execution_count": null,
   "metadata": {},
   "outputs": [],
   "source": []
  },
  {
   "cell_type": "markdown",
   "metadata": {},
   "source": [
    "## 실습 문제\n",
    "\n",
    "> **양의 정수** 두개를 받아 첫번째 수를 두번째 수로 나눈 결과를 출력하는 함수를 만들어보세요.\n",
    "\n",
    "`def my_div(num1,num2)`\n",
    "\n",
    "- num2가 0이여서 발생하는 오류인 경우 **에러메시지**를 출력해주세요.\n",
    " \n",
    " 예)\n",
    " \n",
    " ```\n",
    " division by zero 오류가 발생하였습니다.\n",
    " ```\n",
    " \n",
    " \n",
    "- 인자가 string이여서 발생하는 경우는 **ValueError와 함께 '나눗셈은 숫자만 가능합니다.'를 출력**해주세요.\n",
    "(실제로 이 경우에 발생하는 것은 TypeError입니다.)\n",
    "\n",
    "- 정상적인 경우에는 결과를 return합니다."
   ]
  },
  {
   "cell_type": "code",
   "execution_count": 39,
   "metadata": {},
   "outputs": [],
   "source": [
    "# 아래에 코드를 작성해주세요.\n",
    "# def my_div(num1, num2):\n",
    "#     try: \n",
    "#         return num1/num2\n",
    "#     except ZeroDivisionError:\n",
    "#         print(\"division by zero 오류가 발생하였습니다.\")\n",
    "#     except (ValueError, TypeError):\n",
    "#         print('나눗셈은 숫자만 가능합니다.')\n",
    "def my_div(num1, num2):\n",
    "    try:\n",
    "        result = num1 / num2\n",
    "    except ZeroDivisionError as e:\n",
    "        print(f'{e} 오류가 발생하였습니다.')\n",
    "    except:\n",
    "        raise ValueError('나눗셈은 숫자만 가능합니다.')\n",
    "    else:\n",
    "        return result"
   ]
  },
  {
   "cell_type": "code",
   "execution_count": 40,
   "metadata": {
    "scrolled": false
   },
   "outputs": [
    {
     "name": "stdout",
     "output_type": "stream",
     "text": [
      "0.2\n",
      "division by zero 오류가 발생하였습니다.\n"
     ]
    },
    {
     "ename": "ValueError",
     "evalue": "나눗셈은 숫자만 가능합니다.",
     "output_type": "error",
     "traceback": [
      "\u001b[1;31m---------------------------------------------------------------------------\u001b[0m",
      "\u001b[1;31mTypeError\u001b[0m                                 Traceback (most recent call last)",
      "\u001b[1;32m<ipython-input-39-54900c6830a2>\u001b[0m in \u001b[0;36mmy_div\u001b[1;34m(num1, num2)\u001b[0m\n\u001b[0;32m     10\u001b[0m     \u001b[1;32mtry\u001b[0m\u001b[1;33m:\u001b[0m\u001b[1;33m\u001b[0m\u001b[1;33m\u001b[0m\u001b[0m\n\u001b[1;32m---> 11\u001b[1;33m         \u001b[0mresult\u001b[0m \u001b[1;33m=\u001b[0m \u001b[0mnum1\u001b[0m \u001b[1;33m/\u001b[0m \u001b[0mnum2\u001b[0m\u001b[1;33m\u001b[0m\u001b[1;33m\u001b[0m\u001b[0m\n\u001b[0m\u001b[0;32m     12\u001b[0m     \u001b[1;32mexcept\u001b[0m \u001b[0mZeroDivisionError\u001b[0m \u001b[1;32mas\u001b[0m \u001b[0me\u001b[0m\u001b[1;33m:\u001b[0m\u001b[1;33m\u001b[0m\u001b[1;33m\u001b[0m\u001b[0m\n",
      "\u001b[1;31mTypeError\u001b[0m: unsupported operand type(s) for /: 'str' and 'str'",
      "\nDuring handling of the above exception, another exception occurred:\n",
      "\u001b[1;31mValueError\u001b[0m                                Traceback (most recent call last)",
      "\u001b[1;32m<ipython-input-40-fa686d90cea7>\u001b[0m in \u001b[0;36m<module>\u001b[1;34m\u001b[0m\n\u001b[0;32m      1\u001b[0m \u001b[0mprint\u001b[0m\u001b[1;33m(\u001b[0m\u001b[0mmy_div\u001b[0m\u001b[1;33m(\u001b[0m\u001b[1;36m1\u001b[0m\u001b[1;33m,\u001b[0m \u001b[1;36m5\u001b[0m\u001b[1;33m)\u001b[0m\u001b[1;33m)\u001b[0m\u001b[1;33m\u001b[0m\u001b[1;33m\u001b[0m\u001b[0m\n\u001b[0;32m      2\u001b[0m \u001b[0mmy_div\u001b[0m\u001b[1;33m(\u001b[0m\u001b[1;36m1\u001b[0m\u001b[1;33m,\u001b[0m \u001b[1;36m0\u001b[0m\u001b[1;33m)\u001b[0m\u001b[1;33m\u001b[0m\u001b[1;33m\u001b[0m\u001b[0m\n\u001b[1;32m----> 3\u001b[1;33m \u001b[0mmy_div\u001b[0m\u001b[1;33m(\u001b[0m\u001b[1;34m'1'\u001b[0m\u001b[1;33m,\u001b[0m \u001b[1;34m'5'\u001b[0m\u001b[1;33m)\u001b[0m\u001b[1;33m\u001b[0m\u001b[1;33m\u001b[0m\u001b[0m\n\u001b[0m",
      "\u001b[1;32m<ipython-input-39-54900c6830a2>\u001b[0m in \u001b[0;36mmy_div\u001b[1;34m(num1, num2)\u001b[0m\n\u001b[0;32m     13\u001b[0m         \u001b[0mprint\u001b[0m\u001b[1;33m(\u001b[0m\u001b[1;34mf'{e} 오류가 발생하였습니다.'\u001b[0m\u001b[1;33m)\u001b[0m\u001b[1;33m\u001b[0m\u001b[1;33m\u001b[0m\u001b[0m\n\u001b[0;32m     14\u001b[0m     \u001b[1;32mexcept\u001b[0m\u001b[1;33m:\u001b[0m\u001b[1;33m\u001b[0m\u001b[1;33m\u001b[0m\u001b[0m\n\u001b[1;32m---> 15\u001b[1;33m         \u001b[1;32mraise\u001b[0m \u001b[0mValueError\u001b[0m\u001b[1;33m(\u001b[0m\u001b[1;34m'나눗셈은 숫자만 가능합니다.'\u001b[0m\u001b[1;33m)\u001b[0m\u001b[1;33m\u001b[0m\u001b[1;33m\u001b[0m\u001b[0m\n\u001b[0m\u001b[0;32m     16\u001b[0m     \u001b[1;32melse\u001b[0m\u001b[1;33m:\u001b[0m\u001b[1;33m\u001b[0m\u001b[1;33m\u001b[0m\u001b[0m\n\u001b[0;32m     17\u001b[0m         \u001b[1;32mreturn\u001b[0m \u001b[0mresult\u001b[0m\u001b[1;33m\u001b[0m\u001b[1;33m\u001b[0m\u001b[0m\n",
      "\u001b[1;31mValueError\u001b[0m: 나눗셈은 숫자만 가능합니다."
     ]
    }
   ],
   "source": [
    "print(my_div(1, 5))\n",
    "my_div(1, 0)\n",
    "my_div('1', '5')"
   ]
  },
  {
   "cell_type": "markdown",
   "metadata": {},
   "source": [
    "# `assert`\n",
    "\n",
    "`assert` 문은 예외를 발생시키는 다른 방법이다. \n",
    "\n",
    "보통 상태를 검증하는데 사용되며 무조건 `AssertionError`가 발생한다.\n",
    "\n",
    "```\n",
    "assert Boolean expression, error message\n",
    "```\n",
    "\n",
    "위의 검증식이 거짓일 경우를 발생한다.\n",
    "\n",
    "`raise`는 항상 예외를 발생시키고, 지정한 예외가 발생한다는 점에서 다르다."
   ]
  },
  {
   "cell_type": "markdown",
   "metadata": {},
   "source": [
    "## 실습 문제\n",
    "\n",
    "> **양의 정수** 두개를 받아 첫번째 수를 두번째 수로 나눈 결과를 출력하는 함수를 만들어보세요.\n",
    "\n",
    "`def my_div(num1,num2)`\n",
    "\n",
    "- assert를 활용하여, int가 아닌 경우 AssertionError를 발생시켜봅시다."
   ]
  },
  {
   "cell_type": "code",
   "execution_count": null,
   "metadata": {},
   "outputs": [],
   "source": [
    "# 아래에 코드를 작성해주세요.\n",
    "def my_div(num1, num2):\n"
   ]
  },
  {
   "cell_type": "code",
   "execution_count": null,
   "metadata": {},
   "outputs": [],
   "source": [
    "my_div(1.3, 1)"
   ]
  },
  {
   "cell_type": "code",
   "execution_count": null,
   "metadata": {},
   "outputs": [],
   "source": []
  }
 ],
 "metadata": {
  "kernelspec": {
   "display_name": "Python 3",
   "language": "python",
   "name": "python3"
  },
  "language_info": {
   "codemirror_mode": {
    "name": "ipython",
    "version": 3
   },
   "file_extension": ".py",
   "mimetype": "text/x-python",
   "name": "python",
   "nbconvert_exporter": "python",
   "pygments_lexer": "ipython3",
   "version": "3.7.1"
  },
  "latex_envs": {
   "LaTeX_envs_menu_present": true,
   "autoclose": false,
   "autocomplete": true,
   "bibliofile": "biblio.bib",
   "cite_by": "apalike",
   "current_citInitial": 1,
   "eqLabelWithNumbers": true,
   "eqNumInitial": 1,
   "hotkeys": {
    "equation": "Ctrl-E",
    "itemize": "Ctrl-I"
   },
   "labels_anchors": false,
   "latex_user_defs": false,
   "report_style_numbering": false,
   "user_envs_cfg": false
  },
  "toc": {
   "base_numbering": 1,
   "nav_menu": {},
   "number_sections": true,
   "sideBar": true,
   "skip_h1_title": false,
   "title_cell": "Table of Contents",
   "title_sidebar": "Contents",
   "toc_cell": false,
   "toc_position": {},
   "toc_section_display": true,
   "toc_window_display": false
  }
 },
 "nbformat": 4,
 "nbformat_minor": 2
}
