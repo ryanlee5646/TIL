{
 "cells": [
  {
   "cell_type": "code",
   "execution_count": 4,
   "metadata": {},
   "outputs": [
    {
     "name": "stdout",
     "output_type": "stream",
     "text": [
      "*****\n",
      "*****\n",
      "*****\n",
      "*****\n",
      "*****\n",
      "*****\n",
      "*****\n",
      "*****\n",
      "*****\n",
      "\n"
     ]
    }
   ],
   "source": [
    "''' 두개의정수n과m이주어집니다. 반복문을사용하지않고\n",
    " 별(*) 문자를이용해가로의길이가 n, 세로의길이가 m인직사각형형태를출력해보세요.'''\n",
    "n = 5\n",
    "m = 9\n",
    "print(((n*'*')+ '\\n')*m)\n"
   ]
  },
  {
   "cell_type": "code",
   "execution_count": 8,
   "metadata": {},
   "outputs": [
    {
     "name": "stdout",
     "output_type": "stream",
     "text": [
      "87.75\n"
     ]
    }
   ],
   "source": [
    "'''\n",
    "다음 딕셔너리에서 평균 점수를 출력하시오\n",
    "'''\n",
    "student = {'python':80, 'algorithm':99, 'django':89, 'flask':83}\n",
    "print(sum(student.values()) / len(student))\n",
    "\n"
   ]
  },
  {
   "cell_type": "code",
   "execution_count": 14,
   "metadata": {},
   "outputs": [
    {
     "name": "stdout",
     "output_type": "stream",
     "text": [
      "{'A': 3, 'B': 3, 'O': 3, 'AB': 3}\n"
     ]
    }
   ],
   "source": [
    "'''다음은 학생들의 혈액형(A, B, AB, O)에 대한 데이터이다. \n",
    "for문을 이용하여 각 혈액형 별 학생수의 합계를 구하시오.'''\n",
    "blood_types = ['A','B','A','O','AB','AB','O','A','B','O','B','AB' ]\n",
    "\n",
    "# print(f\"\n",
    "# A형:{blood_types.count('A')}명, B형:{blood_types.count('B')}명, \n",
    "# O형:{blood_types.count('O')}명, AB형:{blood_types.count('AB')}명\n",
    "# \")\n",
    "\n",
    "result = {}\n",
    "for blood_type in blood_types:\n",
    "    if blood_type in result:\n",
    "        result[blood_type] += 1\n",
    "    else:\n",
    "        result[blood_type] = 1\n",
    "print(result)  \n",
    "# for i in blood_types:\n",
    "#     if i == 'A'\n",
    "    "
   ]
  },
  {
   "cell_type": "code",
   "execution_count": null,
   "metadata": {},
   "outputs": [],
   "source": []
  }
 ],
 "metadata": {
  "kernelspec": {
   "display_name": "Python 3",
   "language": "python",
   "name": "python3"
  },
  "language_info": {
   "codemirror_mode": {
    "name": "ipython",
    "version": 3
   },
   "file_extension": ".py",
   "mimetype": "text/x-python",
   "name": "python",
   "nbconvert_exporter": "python",
   "pygments_lexer": "ipython3",
   "version": "3.7.1"
  }
 },
 "nbformat": 4,
 "nbformat_minor": 2
}
