{
 "cells": [
  {
   "cell_type": "markdown",
   "metadata": {},
   "source": [
    "# 이상한 덧셈\n",
    "\n",
    "> 숫자 구성된 리스트에서 양의 정수의 합을 구하는 함수 `positive_sum`을 작성하세요.\n",
    "\n",
    "예시)\n",
    "\n",
    "```python\n",
    "positive_sum([1,-4,7,12]) #=> 20\n",
    "positive_sum([-1, -2, -3, -4]) #=> 0\n",
    "```"
   ]
  },
  {
   "cell_type": "code",
   "execution_count": 12,
   "metadata": {},
   "outputs": [],
   "source": [
    "# 여기에 코드를 작성하세요.\n",
    "def positive_sum(num):\n",
    "    a = [0]\n",
    "    for i in num:\n",
    "        if i > 0:\n",
    "            a.append(i)\n",
    "    return sum(a)\n",
    "        \n",
    "#고오급\n",
    "def positive_sum(num):\n",
    "    return sum(n for n in num if n > 0)\n",
    "    \n",
    "        \n"
   ]
  },
  {
   "cell_type": "code",
   "execution_count": 13,
   "metadata": {},
   "outputs": [
    {
     "name": "stdout",
     "output_type": "stream",
     "text": [
      "20\n",
      "0\n"
     ]
    }
   ],
   "source": [
    "# 해당 코드를 통해 올바른 결과가 나오는지 확인하세요.\n",
    "print(positive_sum([1,-4,7,12])) #=> 20\n",
    "print(positive_sum([-1, -2, -3, -4])) #=> 0"
   ]
  },
  {
   "cell_type": "markdown",
   "metadata": {},
   "source": [
    "# 모음 제거하기\n",
    "\n",
    "> 주어진 문자열에서 소문자 모음을 제거하는 함수 `shortcut`을 작성하세요.\n",
    "\n",
    "예시)\n",
    "\n",
    "```python\n",
    "shortcut(\"Life is too short, you need python\") #=> Lf s t shrt, y nd pythn\n",
    "```\n"
   ]
  },
  {
   "cell_type": "code",
   "execution_count": 23,
   "metadata": {},
   "outputs": [],
   "source": [
    "# 여기에 코드를 작성하세요.\n",
    "def shortcut(s):\n",
    "    col = ['i', 'a', 'e', 'o', 'u']\n",
    "    result = ''\n",
    "    for i in s:\n",
    "        if not i in col:\n",
    "#             print(a)\n",
    "            result += i\n",
    "    return result\n",
    "#고오급\n",
    "def shortcut(s):\n",
    "    for vowel in 'aeiou':\n",
    "        s = s.replace(vowel,'')\n",
    "    return s\n",
    "    "
   ]
  },
  {
   "cell_type": "code",
   "execution_count": 24,
   "metadata": {},
   "outputs": [
    {
     "name": "stdout",
     "output_type": "stream",
     "text": [
      "\n",
      "L\n",
      "Lf\n",
      "Lf \n",
      "Lf s\n",
      "Lf s \n",
      "Lf s t\n",
      "Lf s t \n",
      "Lf s t s\n",
      "Lf s t sh\n",
      "Lf s t shr\n",
      "Lf s t shrt\n",
      "Lf s t shrt,\n",
      "Lf s t shrt, \n",
      "Lf s t shrt, y\n",
      "Lf s t shrt, y \n",
      "Lf s t shrt, y n\n",
      "Lf s t shrt, y nd\n",
      "Lf s t shrt, y nd \n",
      "Lf s t shrt, y nd p\n",
      "Lf s t shrt, y nd py\n",
      "Lf s t shrt, y nd pyt\n",
      "Lf s t shrt, y nd pyth\n",
      "Lf s t shrt, y nd pythn\n"
     ]
    }
   ],
   "source": [
    "# 해당 코드를 통해 올바른 결과가 나오는지 확인하세요.\n",
    "print(shortcut(\"Life is too short, you need python\")) #=> Lf s t shrt, y nd pythn"
   ]
  },
  {
   "cell_type": "markdown",
   "metadata": {},
   "source": [
    "# 문자열 탐색\n",
    "\n",
    "> 문자열 요소로만 이루어진 리스트를 넣었을 때, 문자열 길이가 2 이상이고 주어진 문자열의 첫번째와 마지막 문자가 같은 문자열의 수를 세는 함수 `start_end`를 작성하시오.\n",
    "\n",
    "예시)\n",
    "\n",
    "```python\n",
    "start_end(['level', 'asdwe', 's', 'abceda', 'gsdwrtfg']) #=> 3\n",
    "```\n"
   ]
  },
  {
   "cell_type": "code",
   "execution_count": 41,
   "metadata": {},
   "outputs": [],
   "source": [
    "# 여기에 코드를 작성하세요.\n",
    "def start_end(x):\n",
    "    num = 0\n",
    "    for i in x:\n",
    "        if len(i) > 1:\n",
    "            if i[0] == i[-1]:\n",
    "                num += 1\n",
    "    return num"
   ]
  },
  {
   "cell_type": "code",
   "execution_count": 42,
   "metadata": {},
   "outputs": [
    {
     "name": "stdout",
     "output_type": "stream",
     "text": [
      "3\n"
     ]
    }
   ],
   "source": [
    "# 해당 코드를 통해 올바른 결과가 나오는지 확인하세요.\n",
    "print(start_end(['level', 'asdwe', 's', 'abceda', 'gsdwrtfg'])) #=> 3"
   ]
  },
  {
   "cell_type": "code",
   "execution_count": null,
   "metadata": {},
   "outputs": [],
   "source": []
  },
  {
   "cell_type": "code",
   "execution_count": null,
   "metadata": {},
   "outputs": [],
   "source": []
  }
 ],
 "metadata": {
  "kernelspec": {
   "display_name": "Python 3",
   "language": "python",
   "name": "python3"
  },
  "language_info": {
   "codemirror_mode": {
    "name": "ipython",
    "version": 3
   },
   "file_extension": ".py",
   "mimetype": "text/x-python",
   "name": "python",
   "nbconvert_exporter": "python",
   "pygments_lexer": "ipython3",
   "version": "3.7.1"
  },
  "toc": {
   "base_numbering": 1,
   "nav_menu": {},
   "number_sections": true,
   "sideBar": true,
   "skip_h1_title": false,
   "title_cell": "Table of Contents",
   "title_sidebar": "Contents",
   "toc_cell": false,
   "toc_position": {},
   "toc_section_display": true,
   "toc_window_display": false
  }
 },
 "nbformat": 4,
 "nbformat_minor": 2
}
