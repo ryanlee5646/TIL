{
 "cells": [
  {
   "cell_type": "markdown",
   "metadata": {},
   "source": [
    "# 소대소대\n",
    "\n",
    "> 단어의 짝수번째 알파벳은 대문자로, 홀수번째 알파벳은 소문자로 바꾼 문자열을 return 하는 함수 `up_and_low`을 작성하세요.\n",
    "\n",
    "예시)\n",
    "```python\n",
    "up_and_low('applepie') #=> aPpLePiE\n",
    "up_and_low('spaceship') #=> sPaCeShIp\n",
    "```"
   ]
  },
  {
   "cell_type": "code",
   "execution_count": 131,
   "metadata": {},
   "outputs": [],
   "source": [
    "# 여기에 코드를 작성하세요.\n",
    "# def up_and_low(word):\n",
    "#     w = str()\n",
    "#     word_list = word.lower().split(' ')\n",
    "#     for i in word_list:\n",
    "#         for k,g in enumerate(i):\n",
    "#             if k % 2 == 1:\n",
    "#                 g = g.upper()\n",
    "#             w += g\n",
    "#         w += ' '\n",
    "#     return w[:-1]\n",
    "\n",
    "# def up_and_low(word):\n",
    "#     result = ''\n",
    "#     for i,c in enumerate(word):\n",
    "#         if i % 2 == 1:\n",
    "#             result += c.upper()\n",
    "#         else:\n",
    "#             result += c.lower()\n",
    "#     return result\n",
    "\n",
    "#comprehension\n",
    "def up_and_low(word):\n",
    "    result = [c.upper() if i % 2 else c.lower() for i, c in enumerate(word)]\n",
    "    return ''.join(result)"
   ]
  },
  {
   "cell_type": "code",
   "execution_count": 132,
   "metadata": {},
   "outputs": [
    {
     "name": "stdout",
     "output_type": "stream",
     "text": [
      "aPpLePiE\n",
      "sPaCeShIp\n"
     ]
    }
   ],
   "source": [
    "# 해당 코드를 통해 올바른 결과가 나오는지 확인하세요.\n",
    "print(up_and_low('applepie'))\n",
    "print(up_and_low('spaceship'))"
   ]
  },
  {
   "cell_type": "markdown",
   "metadata": {},
   "source": [
    "# 숫자 패턴\n",
    "\n",
    "> 원하는 행까지 아래의 패턴을 생성하는 함수 `pattern`를 작성하세요. 만약 인자가 0이나 음의 정수인 경우 \"\" 즉, 빈 문자열로 반환하세요. 짝수가 인수로 전달되면 패턴은 통과된 짝수보다 작은 최대 홀수까지 계속되어야 합니다.\n",
    "\n",
    "예시)\n",
    "\n",
    "```python\n",
    "pattern(9)\n",
    "\n",
    "1\n",
    "333\n",
    "55555\n",
    "7777777\n",
    "999999999\n",
    "\n",
    "pattern(6)\n",
    "\n",
    "1\n",
    "333\n",
    "55555\n",
    "```\n",
    "\n",
    "주의)\n",
    "\n",
    "- 패턴에 공백은 없습니다.\n",
    "- 함수 내부에서 `print()`를 사용하는 것이 아니라, 하나의 문자열을 `return`하여서 출력하여야 합니다."
   ]
  },
  {
   "cell_type": "code",
   "execution_count": 5,
   "metadata": {},
   "outputs": [],
   "source": [
    "# 여기에 코드를 작성하세요.\n",
    "## 방법1\n",
    "# def pattern(n):\n",
    "#     result = ''\n",
    "#     if n % 2 == 0:\n",
    "#         for i in range(1,n,2):\n",
    "#             result += str(i)*i+'\\n'          \n",
    "#     else:\n",
    "#         for i in range(1,n+1,2):\n",
    "#             result += str(i)*i+'\\n'\n",
    "#     return result\n",
    "# 방법2\n",
    "def pattern(n):\n",
    "    result = ''\n",
    "    for x in range(1,n+1):\n",
    "        if x % 2:\n",
    "            result += str(x) * x + '\\n'\n",
    "    return result\n",
    "# 방법3\n",
    "def pattern(n):\n",
    "    r = [str(x)*x for x in range(1,n+1) if x % 2]\n",
    "    return '\\n'.join(r)"
   ]
  },
  {
   "cell_type": "code",
   "execution_count": 6,
   "metadata": {},
   "outputs": [
    {
     "name": "stdout",
     "output_type": "stream",
     "text": [
      "1\n",
      "333\n",
      "55555\n",
      "7777777\n",
      "999999999\n",
      "\n",
      "1\n",
      "333\n",
      "55555\n",
      "\n"
     ]
    }
   ],
   "source": [
    "# 해당 코드를 통해 올바른 결과가 나오는지 확인하세요.\n",
    "print(pattern(9))\n",
    "print(pattern(6))"
   ]
  },
  {
   "cell_type": "markdown",
   "metadata": {},
   "source": [
    "# 무엇이 중복일까\n",
    "\n",
    "> 중복된 요소만 뽑아서 출력하는 `duplicated` 함수를 작성하시오.\n",
    "\n",
    "예시)\n",
    "\n",
    "```python\n",
    "duplicated(['a', 'b', 'c', 'b', 'd', 'm', 'n', 'n', 'b']) #=> ['b', 'n']\n",
    "```"
   ]
  },
  {
   "cell_type": "code",
   "execution_count": 31,
   "metadata": {},
   "outputs": [],
   "source": [
    "# 여기에 코드를 작성하세요.\n",
    "# some_list = ['a', 'b', 'c', 'b', 'd', 'm', 'n', 'n', 'b']\n",
    "# def duplicated(some_list):\n",
    "#     result = []\n",
    "#     for i, c in enumerate(some_list):\n",
    "#         for j in some_list[i+1:]:\n",
    "#             if c == j:\n",
    "#                 result.append(c)\n",
    "#     return set(result)\n",
    "\n",
    "# def duplicated(some_list):\n",
    "#     result = []\n",
    "#     for i in some_list:\n",
    "#         if some_list.count(i) >= 2:\n",
    "#             result.append(i)\n",
    "#     return set(result)\n",
    "\n",
    "# def duplicated(some_list):\n",
    "#     result = [i for i in some_list if some_list.count(i) >= 2]\n",
    "#     return list(set(result))\n",
    "# def duplicated(some_list):\n",
    "#     result = []\n",
    "#     for i in some_list:\n",
    "#         if some_list.count(i) >= 2:\n",
    "#             if i not in result:\n",
    "#                 result.append(i)\n",
    "#     return set(result)   \n",
    "\n",
    "def duplicated(some_list):\n",
    "    return list({c for c in some_list if some_list.count(c) > 1})\n",
    "    \n",
    "    \n"
   ]
  },
  {
   "cell_type": "code",
   "execution_count": 32,
   "metadata": {},
   "outputs": [
    {
     "name": "stdout",
     "output_type": "stream",
     "text": [
      "['n', 'b']\n"
     ]
    }
   ],
   "source": [
    "# 해당 코드를 통해 올바른 결과가 나오는지 확인하세요.\n",
    "print(duplicated(['a', 'b', 'c', 'b', 'd', 'm', 'n', 'n', 'b']))"
   ]
  },
  {
   "cell_type": "code",
   "execution_count": 104,
   "metadata": {},
   "outputs": [
    {
     "data": {
      "text/plain": [
       "1"
      ]
     },
     "execution_count": 104,
     "metadata": {},
     "output_type": "execute_result"
    }
   ],
   "source": [
    "\n"
   ]
  },
  {
   "cell_type": "code",
   "execution_count": null,
   "metadata": {},
   "outputs": [],
   "source": []
  }
 ],
 "metadata": {
  "kernelspec": {
   "display_name": "Python 3",
   "language": "python",
   "name": "python3"
  },
  "language_info": {
   "codemirror_mode": {
    "name": "ipython",
    "version": 3
   },
   "file_extension": ".py",
   "mimetype": "text/x-python",
   "name": "python",
   "nbconvert_exporter": "python",
   "pygments_lexer": "ipython3",
   "version": "3.7.1"
  },
  "toc": {
   "base_numbering": 1,
   "nav_menu": {},
   "number_sections": true,
   "sideBar": true,
   "skip_h1_title": false,
   "title_cell": "Table of Contents",
   "title_sidebar": "Contents",
   "toc_cell": false,
   "toc_position": {},
   "toc_section_display": true,
   "toc_window_display": false
  }
 },
 "nbformat": 4,
 "nbformat_minor": 2
}
