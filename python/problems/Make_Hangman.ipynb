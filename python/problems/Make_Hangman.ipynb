{
 "cells": [
  {
   "cell_type": "markdown",
   "metadata": {},
   "source": [
    "# 행맨 게임 만들기 "
   ]
  },
  {
   "cell_type": "markdown",
   "metadata": {},
   "source": [
    "## 답안 확인 하기\n",
    "\n",
    "> 행맨 게임을 위한 코드를 작성해봅시다. \n",
    ">\n",
    "> `isanswer(answer, letters)`는 정답 문자열(answer)과 추측 알파벳의 리스트(letters)를 받아서, True/False 결과를 반환합니다."
   ]
  },
  {
   "cell_type": "code",
   "execution_count": null,
   "metadata": {},
   "outputs": [],
   "source": [
    "# 여기에 코드를 작성하세요.\n",
    "def isanswer(answer, letters):\n",
    "    for i in answer:\n",
    "        if i in letters:\n",
    "            answer = answer.replace(i,'')\n",
    "        else:\n",
    "            pass\n",
    "    return not bool(answer)\n",
    "# 방법2    \n",
    "def isanswer(answer, letters):\n",
    "    for char in answer:\n",
    "        if char not in letters:\n",
    "            return False\n",
    "    return True\n"
   ]
  },
  {
   "cell_type": "code",
   "execution_count": null,
   "metadata": {
    "scrolled": true
   },
   "outputs": [],
   "source": [
    "isanswer('apple', ['a', 'p','e','l']) #=> False"
   ]
  },
  {
   "cell_type": "markdown",
   "metadata": {},
   "source": [
    "## 현재 상태 출력하기\n",
    "\n",
    "> 행맨 게임을 위한 코드를 작성해봅시다. \n",
    ">\n",
    "> `status(answer, letters)`는 정답 문자열(answer)과 추측 알파벳의 리스트(letters)를 받아서, 현재 결과를 반환합니다."
   ]
  },
  {
   "cell_type": "code",
   "execution_count": null,
   "metadata": {},
   "outputs": [],
   "source": [
    "# replace\n",
    "# def status(answer, letters):\n",
    "#     result = ''\n",
    "#     for i in answer:\n",
    "#         if i in letters:\n",
    "#             result += i\n",
    "#         else:\n",
    "#             result += '_'\n",
    "#     return result\n",
    "def status(answer, letters):\n",
    "    for c in answer:\n",
    "        if c not in letters:\n",
    "            answer = answer.replace(c,'_')\n",
    "    return answer\n"
   ]
  },
  {
   "cell_type": "code",
   "execution_count": null,
   "metadata": {},
   "outputs": [],
   "source": [
    "status('gyujin', ['g', 'y', 'j','i']) #=> 'appl_'"
   ]
  },
  {
   "cell_type": "markdown",
   "metadata": {},
   "source": [
    "## 행맨 로직 만들기 - 자유코딩!\n",
    "\n",
    "> 위의 코드를 활용하여 `hangman(answer)`를 만들어봅시다!\n",
    ">\n",
    "> 사용자가 답을 맞출 때까지 진행하며, 8번내로 정답을 맞춰야 합니다.\n"
   ]
  },
  {
   "cell_type": "code",
   "execution_count": null,
   "metadata": {},
   "outputs": [],
   "source": [
    "def hangman(answer):\n",
    "    print(\"행맨게임을 시작합니다\")\n",
    "    count = 8\n",
    "    letters = []\n",
    "    while count > 0:\n",
    "        guess = input('문자를 입력해주세요 : ')\n",
    "        letters.append(guess)\n",
    "        print(status(answer, letters))\n",
    "#     if isanswer(answer,letters) == True:\n",
    "        count -= 1\n",
    "        del(start)\n",
    "    \n",
    "        "
   ]
  },
  {
   "cell_type": "code",
   "execution_count": null,
   "metadata": {},
   "outputs": [],
   "source": [
    "hangman('apple')"
   ]
  },
  {
   "cell_type": "code",
   "execution_count": null,
   "metadata": {},
   "outputs": [
    {
     "name": "stdout",
     "output_type": "stream",
     "text": [
      "*****지금부터 행맨게임을 시작합니다.*****\n",
      "qwer\n",
      "문자를 입력해주세요 : a\n",
      "지금까지 입력한 문자는 : ['a']\n",
      "남은 기회: 8\n",
      "_ _ _ _ _ _ \n"
     ]
    }
   ],
   "source": [
    "def isanswer(answer, letters):\n",
    "    for i in answer:\n",
    "        if i in letters:\n",
    "            answer = answer.replace(i,'')\n",
    "        else:\n",
    "            pass\n",
    "    return not bool(answer)\n",
    "\n",
    "# replace\n",
    "# def status(answer, letters):\n",
    "#     result = ''\n",
    "#     for i in answer:\n",
    "#         if i in letters:\n",
    "#             result += i\n",
    "#         else:\n",
    "#             result += '_'\n",
    "#     return result\n",
    "def status(answer, letters):\n",
    "    for i in answer:\n",
    "        if i not in letters:\n",
    "            answer = answer.replace(i,'_ ')\n",
    "    return answer\n",
    "\n",
    "def hangman(answer):\n",
    "    print(f\"*****지금부터 행맨게임을 시작합니다.*****\")\n",
    "    count = 8\n",
    "    print(a)\n",
    "    letters = []\n",
    "    while count > 0:\n",
    "        guess = input('문자를 입력해주세요 : ')\n",
    "        letters.append(guess)\n",
    "        print(f'지금까지 입력한 문자는 : {letters}')\n",
    "        print(f'남은 기회: {count}')        \n",
    "        print(status(answer, letters))\n",
    "        count -= 1\n",
    "        if isanswer(answer, letters):\n",
    "            return '정답입니다'\n",
    "    return 'Game over'\n",
    "#     if isanswer(answer,letters) == True:\n",
    "        \n",
    "hangman('gyujin')"
   ]
  },
  {
   "cell_type": "code",
   "execution_count": null,
   "metadata": {},
   "outputs": [],
   "source": []
  },
  {
   "cell_type": "code",
   "execution_count": null,
   "metadata": {},
   "outputs": [],
   "source": []
  }
 ],
 "metadata": {
  "kernelspec": {
   "display_name": "Python 3",
   "language": "python",
   "name": "python3"
  },
  "language_info": {
   "codemirror_mode": {
    "name": "ipython",
    "version": 3
   },
   "file_extension": ".py",
   "mimetype": "text/x-python",
   "name": "python",
   "nbconvert_exporter": "python",
   "pygments_lexer": "ipython3",
   "version": "3.7.1"
  },
  "latex_envs": {
   "LaTeX_envs_menu_present": true,
   "autoclose": false,
   "autocomplete": true,
   "bibliofile": "biblio.bib",
   "cite_by": "apalike",
   "current_citInitial": 1,
   "eqLabelWithNumbers": true,
   "eqNumInitial": 1,
   "hotkeys": {
    "equation": "Ctrl-E",
    "itemize": "Ctrl-I"
   },
   "labels_anchors": false,
   "latex_user_defs": false,
   "report_style_numbering": false,
   "user_envs_cfg": false
  },
  "toc": {
   "base_numbering": 1,
   "nav_menu": {},
   "number_sections": true,
   "sideBar": true,
   "skip_h1_title": false,
   "title_cell": "Table of Contents",
   "title_sidebar": "Contents",
   "toc_cell": false,
   "toc_position": {},
   "toc_section_display": true,
   "toc_window_display": false
  }
 },
 "nbformat": 4,
 "nbformat_minor": 2
}
