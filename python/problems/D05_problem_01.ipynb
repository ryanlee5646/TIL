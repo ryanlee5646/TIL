{
 "cells": [
  {
   "cell_type": "markdown",
   "metadata": {},
   "source": [
    "# 미들 네임\n",
    "\n",
    "> 영어 이름은 가운데 이름을 가지고 있는 경우가 있습니다.\n",
    ">\n",
    "> 가운데 이름은 축약해서 나타내는 `shorten`함수를 작성해보세요.\n",
    "\n",
    "예시)\n",
    "\n",
    "```python\n",
    "shorten('Alice Betty Catherine Davis') #=> Alice B. C. Davis\n",
    "```"
   ]
  },
  {
   "cell_type": "code",
   "execution_count": 39,
   "metadata": {},
   "outputs": [],
   "source": [
    "# 여기에 코드를 작성하세요.\n",
    "name = 'Alice Betty Catherine Davis'\n",
    "def shorten(name):\n",
    "    name_list = name.split()\n",
    "    middle_name = name_list[1:-1]\n",
    "    for i in middle_name:\n",
    "        first_letter = i[0].upper()+'.'\n",
    "        name = name.replace(i,first_letter)\n",
    "        print(name)\n",
    "    return name\n",
    "    \n",
    "    "
   ]
  },
  {
   "cell_type": "code",
   "execution_count": 2,
   "metadata": {},
   "outputs": [
    {
     "name": "stdout",
     "output_type": "stream",
     "text": [
      "['Betty', 'Catherine']\n",
      "Alice B. Catherine Davis\n",
      "Alice B. C. Davis\n"
     ]
    }
   ],
   "source": []
  },
  {
   "cell_type": "code",
   "execution_count": 40,
   "metadata": {},
   "outputs": [
    {
     "name": "stdout",
     "output_type": "stream",
     "text": [
      "Alice B. C. Davis\n"
     ]
    }
   ],
   "source": [
    "# 해당 코드를 통해 올바른 결과가 나오는지 확인하세요.\n",
    "print(shorten('Alice Betty Catherine Davis')) #=> Alice B. C. Davis"
   ]
  },
  {
   "cell_type": "markdown",
   "metadata": {},
   "source": [
    "# 알파벳만 남기고 뒤집기\n",
    "\n",
    "> 문자열이 주어지면, 해당 문자열 중에서 알파벳이 아닌 문자는 전부 빼고 거꾸로 뒤집어 반환하는 함수 `revers_letter`를 작성하세요.\n",
    "\n",
    "예시)\n",
    "\n",
    "```python\n",
    "reverse_letter(\"krishan\") #=> \"nahsirk\"\n",
    "reverse_letter(\"ultr53o?n\") #=> \"nortlu\"\n",
    "reverse_letter('asdf?.,/') #=> \"fdsa\"\n",
    "```"
   ]
  },
  {
   "cell_type": "code",
   "execution_count": 59,
   "metadata": {},
   "outputs": [],
   "source": [
    "# 여기에 코드를 작성하세요.\n",
    "def reverse_letter(string):\n",
    "    alpha = []\n",
    "    strings = list(string)\n",
    "    for word in strings:\n",
    "        if word.isalpha() == True:\n",
    "            alpha.append(word)\n",
    "    return reversed(alpha)\n",
    "            \n",
    "    \n",
    "    "
   ]
  },
  {
   "cell_type": "code",
   "execution_count": 60,
   "metadata": {},
   "outputs": [
    {
     "name": "stdout",
     "output_type": "stream",
     "text": [
      "['k', 'r', 'i', 's', 'h', 'a', 'n']\n"
     ]
    }
   ],
   "source": [
    "string = \"krishan\"\n",
    "strings = list(string)\n",
    "print(strings)\n"
   ]
  },
  {
   "cell_type": "code",
   "execution_count": 61,
   "metadata": {},
   "outputs": [
    {
     "name": "stdout",
     "output_type": "stream",
     "text": [
      "<list_reverseiterator object at 0x000001CDC8D05BE0>\n",
      "<list_reverseiterator object at 0x000001CDC8D05C50>\n",
      "<list_reverseiterator object at 0x000001CDC8D05C18>\n"
     ]
    }
   ],
   "source": [
    "# 해당 코드를 통해 올바른 결과가 나오는지 확인하세요.\n",
    "print(reverse_letter(\"krishan\"))\n",
    "print(reverse_letter(\"ultr53o?n\"))\n",
    "print(reverse_letter('asdf?.,/'))"
   ]
  },
  {
   "cell_type": "markdown",
   "metadata": {},
   "source": [
    "# 숫자가 좋아\n",
    "\n",
    "> 스트링과 함께 섞여있는 문자열들 속에서 정수만 뽑아내 합을 반환하는 함수 `pick_and_sum`를 작성하세요.\n",
    "\n",
    "예시)\n",
    "```python\n",
    "pick_and_sum(\"an8nt12\") #=> 20\n",
    "pick_and_sum(\"The30quick20brown10f0x1203jumps914ov3r1349the102l4zy dog\") #=> 3635\n",
    "```"
   ]
  },
  {
   "cell_type": "code",
   "execution_count": null,
   "metadata": {},
   "outputs": [],
   "source": [
    "# 여기에 코드를 작성하세요.\n",
    "def pick_and_sum(s):\n"
   ]
  },
  {
   "cell_type": "code",
   "execution_count": null,
   "metadata": {},
   "outputs": [],
   "source": [
    "# 해당 코드를 통해 올바른 결과가 나오는지 확인하세요.\n",
    "print(pick_and_sum(\"an8nt12\"))\n",
    "print(pick_and_sum(\"The30quick20brown10f0x1203jumps914ov3r1349the102l4zy dog\"))"
   ]
  }
 ],
 "metadata": {
  "kernelspec": {
   "display_name": "Python 3",
   "language": "python",
   "name": "python3"
  },
  "language_info": {
   "codemirror_mode": {
    "name": "ipython",
    "version": 3
   },
   "file_extension": ".py",
   "mimetype": "text/x-python",
   "name": "python",
   "nbconvert_exporter": "python",
   "pygments_lexer": "ipython3",
   "version": "3.7.1"
  },
  "toc": {
   "base_numbering": 1,
   "nav_menu": {},
   "number_sections": true,
   "sideBar": true,
   "skip_h1_title": false,
   "title_cell": "Table of Contents",
   "title_sidebar": "Contents",
   "toc_cell": false,
   "toc_position": {},
   "toc_section_display": true,
   "toc_window_display": false
  }
 },
 "nbformat": 4,
 "nbformat_minor": 2
}
