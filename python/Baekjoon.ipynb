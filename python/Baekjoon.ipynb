{
 "cells": [
  {
   "cell_type": "code",
   "execution_count": null,
   "metadata": {},
   "outputs": [],
   "source": [
    "A,B = map(int,input().split())\n",
    "print(int(A+B))\n",
    "print(int(A-B))\n",
    "print(int(A*B))\n",
    "print(int(A/B))\n",
    "print(int(A%B))"
   ]
  },
  {
   "cell_type": "code",
   "execution_count": null,
   "metadata": {},
   "outputs": [],
   "source": [
    "# (A+B)%C는 (A%C + B%C)%C 와 같을까?\n",
    "\n",
    "# (A×B)%C는 (A%C × B%C)%C 와 같을까?\n",
    "\n",
    "# 세 수 A, B, C가 주어졌을 때, 위의 네 가지 값을 구하는 프로그램을 작성하시오.\n",
    "\n",
    "# 첫째 줄에 A, B, C가 순서대로 주어진다. (2 ≤ A, B, C ≤ 10000)\n",
    "\n",
    "# 첫째 줄에 (A+B)%C, 둘째 줄에 (A%C + B%C)%C, 셋째 줄에 (A×B)%C, 넷째 줄에 (A%C × B%C)%C를 출력한다.\n",
    "A,B,C = map(int,input().split())\n",
    "print((A+B)%C)\n",
    "print((A%C+B%C)%C)\n",
    "print((A*B)%C)\n",
    "print((A%C*B%C)%C)\n",
    "\n",
    "\n"
   ]
  },
  {
   "cell_type": "code",
   "execution_count": null,
   "metadata": {},
   "outputs": [],
   "source": [
    "# 정수 A와 B를 입력받은 다음, A+B를 출력하는 프로그램을 작성하시오.\n",
    "# 첫째 줄에 A, 둘째 줄에 B가 주어진다. (0 < A, B < 10)\n",
    "# 첫째 줄에 A+B를 출력한다.\n",
    "A = int(input())\n",
    "B = int(input())\n",
    "print(int(A+B))"
   ]
  },
  {
   "cell_type": "code",
   "execution_count": null,
   "metadata": {},
   "outputs": [],
   "source": [
    "\"\"\" \n",
    "상근이는 요즘 설탕공장에서 설탕을 배달하고 있다. 상근이는 지금 사탕가게에 \n",
    "# 설탕을 정확하게 N킬로그램을 배달해야 한다. 설탕공장에서 만드는 설탕은 봉지에 담겨져 있다. \n",
    "# 봉지는 3킬로그램 봉지와 5킬로그램 봉지가 있다.상근이는 귀찮기 때문에, 최대한 적은 봉지를 들고 가려고 한다. \n",
    "# 예를 들어, 18킬로그램 설탕을 배달해야 할 때, 3킬로그램 봉지 6개를 가져가도 되지만, \n",
    "# 5킬로그램 3개와 3킬로그램 1개를 배달하면, 더 적은 개수의 봉지를 배달할 수 있다.\n",
    "# 상근이가 설탕을 정확하게 N킬로그램 배달해야 할 때, \n",
    "봉지 몇 개를 가져가면 되는지 그 수를 구하는 프로그램을 작성하시오\n",
    "상근이가 배달하는 봉지의 최소 개수를 출력한다. 만약, 정확하게 N킬로그램을 만들 수 없다면 -1을 출력한다.\n",
    "\"\"\"\n",
    "#방법 1\n",
    "num = int(input())\n",
    "five = num // 5\n",
    "num %= 5\n",
    "three = 0\n",
    "while five >= 0:\n",
    "    if num % 3 == 0:\n",
    "        three = num // 3\n",
    "        num = num % 3\n",
    "        break\n",
    "    five -= 1\n",
    "    num += 5\n",
    "print((num == 0) and (three + five) or -1)\n",
    "         \n",
    "# #방법 2    \n",
    "# num = int(input())\n",
    "# five = num // 5\n",
    "# num %= 5\n",
    "# three = 0\n",
    "# if num == 4 :\n",
    "#     print(-1)\n",
    "# elif num < 2 :\n",
    "#     print\n",
    "# print(three+five)"
   ]
  },
  {
   "cell_type": "code",
   "execution_count": null,
   "metadata": {},
   "outputs": [],
   "source": [
    "#2439\n",
    "# 첫째 줄에는 별 1개, 둘째 줄에는 별 2개, N번째 줄에는 별 N개를 찍는 문제\n",
    "# 하지만, 오른쪽을 기준으로 정렬한 별(예제 참고)을 출력하시오.\n",
    "#     *\n",
    "#    **\n",
    "#   ***\n",
    "#  ****\n",
    "# *****\n",
    " \n",
    "n = int(input())\n",
    "for i in range(n):\n",
    "    print(f\"{'*'*(i+1):>{n}}\")\n",
    "              \n",
    "              \n",
    "\n",
    "        "
   ]
  },
  {
   "cell_type": "code",
   "execution_count": null,
   "metadata": {},
   "outputs": [],
   "source": [
    "num = int(input())\n",
    "five = num // 5\n",
    "num %= 5\n",
    "three = 0\n",
    "if num == 4 :\n",
    "    print(-1)\n",
    "elif num < 2 :\n",
    "    print(three+five)\n",
    "else:\n",
    "    print(-1)"
   ]
  },
  {
   "cell_type": "code",
   "execution_count": null,
   "metadata": {},
   "outputs": [],
   "source": [
    "n = int(input())\n",
    "for i in range(1,n+1):\n",
    "    print(i)"
   ]
  },
  {
   "cell_type": "code",
   "execution_count": null,
   "metadata": {},
   "outputs": [],
   "source": [
    "n = int(input())\n",
    "for i in range(n):\n",
    "    print(n-i)"
   ]
  },
  {
   "cell_type": "code",
   "execution_count": null,
   "metadata": {},
   "outputs": [],
   "source": [
    "n = int(input())\n",
    "for i in range(n+1):\n",
    "    print('*'*i)"
   ]
  },
  {
   "cell_type": "code",
   "execution_count": null,
   "metadata": {},
   "outputs": [],
   "source": [
    "result = []\n",
    "T = []\n",
    "num = []\n",
    "cnt = int(input())"
   ]
  },
  {
   "cell_type": "code",
   "execution_count": null,
   "metadata": {},
   "outputs": [],
   "source": [
    "result=[]\n",
    "nums=[]\n",
    "temp=0\n",
    " \n",
    "cnt = int(input())\n",
    " \n",
    "for i in range(cnt):\n",
    "    nums = input().split(\" \")\n",
    "    for j in nums:\n",
    "        if int(j)%2==1:\n",
    "            temp+=int(j)\n",
    "    result.append(temp)\n",
    "    temp=0\n",
    " \n",
    "for i in range(cnt):\n",
    "    print(\"#{} {}\".format(i+1, result[i]))"
   ]
  },
  {
   "cell_type": "code",
   "execution_count": 4,
   "metadata": {},
   "outputs": [
    {
     "data": {
      "text/plain": [
       "[[1, 2], [1, 3], [2, 3]]"
      ]
     },
     "execution_count": 4,
     "metadata": {},
     "output_type": "execute_result"
    }
   ],
   "source": [
    "a=[[2,3],[1,3],[1,2]]\n",
    "a=sorted(a,key=)\n",
    "a"
   ]
  }
 ],
 "metadata": {
  "kernelspec": {
   "display_name": "Python 3",
   "language": "python",
   "name": "python3"
  },
  "language_info": {
   "codemirror_mode": {
    "name": "ipython",
    "version": 3
   },
   "file_extension": ".py",
   "mimetype": "text/x-python",
   "name": "python",
   "nbconvert_exporter": "python",
   "pygments_lexer": "ipython3",
   "version": "3.7.1"
  }
 },
 "nbformat": 4,
 "nbformat_minor": 2
}
