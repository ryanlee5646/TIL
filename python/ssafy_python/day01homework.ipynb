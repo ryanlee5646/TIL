{
 "cells": [
  {
   "cell_type": "code",
   "execution_count": null,
   "metadata": {},
   "outputs": [],
   "source": [
    "#1. Pyhon에서 사용할 수 없는 식별자(예약어)를 찾아 작성하세요\n",
    "import keyword\n",
    "print(keyword.kwlist)\n",
    "\"\"\"False, None, True, and, as, assert, break, class, continue, def, del, \n",
    "elif, else, except, finally, for, from, global, if, import, in, is, \n",
    "lambda, nonlocal, not, or, pass, raise, return, try, while, with, yield\"\"\""
   ]
  },
  {
   "cell_type": "code",
   "execution_count": null,
   "metadata": {},
   "outputs": [],
   "source": [
    "#2. 파이썬에서 float는 실수를 표현하는 과정에서 같은 값으로 일치되지 않습니다.\n",
    "# (floating point rounding error)\n",
    "# 따라서, 아래의 값을 비교하기 위해 작성해야하는 코드를 작성하세요. \n",
    "import math\n",
    "a = 0.1 * 3\n",
    "b = 0.3\n",
    "math.isclose(a, b)"
   ]
  },
  {
   "cell_type": "code",
   "execution_count": null,
   "metadata": {},
   "outputs": [],
   "source": [
    "#3. 이스케이프 문자열 중 1) 줄바꿈, 2) 탭 3) \\를 작성하세요.\n",
    "\"\"\"\n",
    "1. \\n\n",
    "2. \\t\n",
    "3. \\\\\n",
    "\"\"\""
   ]
  },
  {
   "cell_type": "code",
   "execution_count": null,
   "metadata": {},
   "outputs": [],
   "source": [
    "#4. “안녕, 철수야”를 String Interpolation을 사용하여 출력하세요.\n",
    "name = '철수'\n",
    "print(f'\"안녕, {name}야\"')\n",
    "print('\"안녕, {}야\"'.format(name))\n",
    "print('\"안녕, %s야\"'% name)"
   ]
  },
  {
   "cell_type": "code",
   "execution_count": null,
   "metadata": {},
   "outputs": [],
   "source": [
    "#5. 다음 중 형변환시 오류가 발생하는 것은?\n",
    "\"\"\"\n",
    "1) str(1), 2) int('30'), 3) int(5), 4) bool('50'), 5) int('3.5')\n",
    "5번!\n",
    "\"\"\""
   ]
  },
  {
   "cell_type": "code",
   "execution_count": null,
   "metadata": {},
   "outputs": [],
   "source": []
  },
  {
   "cell_type": "code",
   "execution_count": null,
   "metadata": {},
   "outputs": [],
   "source": []
  }
 ],
 "metadata": {
  "kernelspec": {
   "display_name": "Python 3",
   "language": "python",
   "name": "python3"
  },
  "language_info": {
   "codemirror_mode": {
    "name": "ipython",
    "version": 3
   },
   "file_extension": ".py",
   "mimetype": "text/x-python",
   "name": "python",
   "nbconvert_exporter": "python",
   "pygments_lexer": "ipython3",
   "version": "3.7.1"
  }
 },
 "nbformat": 4,
 "nbformat_minor": 2
}
