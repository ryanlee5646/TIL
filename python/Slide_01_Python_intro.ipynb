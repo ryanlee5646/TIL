{
 "cells": [
  {
   "cell_type": "markdown",
   "metadata": {
    "toc": true
   },
   "source": [
    "<h1>Table of Contents<span class=\"tocSkip\"></span></h1>\n",
    "<div class=\"toc\"><ul class=\"toc-item\"><li><span><a href=\"#Python-기초\" data-toc-modified-id=\"Python-기초-1\"><span class=\"toc-item-num\">1&nbsp;&nbsp;</span>Python 기초</a></span><ul class=\"toc-item\"><li><span><a href=\"#개요\" data-toc-modified-id=\"개요-1.1\"><span class=\"toc-item-num\">1.1&nbsp;&nbsp;</span>개요</a></span></li><li><span><a href=\"#식별자\" data-toc-modified-id=\"식별자-1.2\"><span class=\"toc-item-num\">1.2&nbsp;&nbsp;</span>식별자</a></span></li><li><span><a href=\"#기초-문법\" data-toc-modified-id=\"기초-문법-1.3\"><span class=\"toc-item-num\">1.3&nbsp;&nbsp;</span>기초 문법</a></span><ul class=\"toc-item\"><li><span><a href=\"#인코딩-선언\" data-toc-modified-id=\"인코딩-선언-1.3.1\"><span class=\"toc-item-num\">1.3.1&nbsp;&nbsp;</span>인코딩 선언</a></span></li><li><span><a href=\"#주석(Comment)\" data-toc-modified-id=\"주석(Comment)-1.3.2\"><span class=\"toc-item-num\">1.3.2&nbsp;&nbsp;</span>주석(Comment)</a></span></li><li><span><a href=\"#코드-라인\" data-toc-modified-id=\"코드-라인-1.3.3\"><span class=\"toc-item-num\">1.3.3&nbsp;&nbsp;</span>코드 라인</a></span></li></ul></li></ul></li><li><span><a href=\"#변수(variable)-및-자료형\" data-toc-modified-id=\"변수(variable)-및-자료형-2\"><span class=\"toc-item-num\">2&nbsp;&nbsp;</span>변수(variable) 및 자료형</a></span><ul class=\"toc-item\"><li><span><a href=\"#수치형(Numbers)\" data-toc-modified-id=\"수치형(Numbers)-2.1\"><span class=\"toc-item-num\">2.1&nbsp;&nbsp;</span>수치형(Numbers)</a></span><ul class=\"toc-item\"><li><span><a href=\"#int-(정수)\" data-toc-modified-id=\"int-(정수)-2.1.1\"><span class=\"toc-item-num\">2.1.1&nbsp;&nbsp;</span><code>int</code> (정수)</a></span></li><li><span><a href=\"#float(부동소수점,-실수)\" data-toc-modified-id=\"float(부동소수점,-실수)-2.1.2\"><span class=\"toc-item-num\">2.1.2&nbsp;&nbsp;</span><code>float</code>(부동소수점, 실수)</a></span></li><li><span><a href=\"#complex-(복소수)\" data-toc-modified-id=\"complex-(복소수)-2.1.3\"><span class=\"toc-item-num\">2.1.3&nbsp;&nbsp;</span><code>complex</code> (복소수)</a></span></li></ul></li><li><span><a href=\"#Bool\" data-toc-modified-id=\"Bool-2.2\"><span class=\"toc-item-num\">2.2&nbsp;&nbsp;</span>Bool</a></span></li><li><span><a href=\"#None\" data-toc-modified-id=\"None-2.3\"><span class=\"toc-item-num\">2.3&nbsp;&nbsp;</span>None</a></span></li><li><span><a href=\"#문자형(String)\" data-toc-modified-id=\"문자형(String)-2.4\"><span class=\"toc-item-num\">2.4&nbsp;&nbsp;</span>문자형(String)</a></span><ul class=\"toc-item\"><li><span><a href=\"#기본-활용법\" data-toc-modified-id=\"기본-활용법-2.4.1\"><span class=\"toc-item-num\">2.4.1&nbsp;&nbsp;</span>기본 활용법</a></span></li><li><span><a href=\"#이스케이프-문자열\" data-toc-modified-id=\"이스케이프-문자열-2.4.2\"><span class=\"toc-item-num\">2.4.2&nbsp;&nbsp;</span>이스케이프 문자열</a></span><ul class=\"toc-item\"><li><span><a href=\"#깜짝-퀴즈\" data-toc-modified-id=\"깜짝-퀴즈-2.4.2.1\"><span class=\"toc-item-num\">2.4.2.1&nbsp;&nbsp;</span>깜짝 퀴즈</a></span></li></ul></li><li><span><a href=\"#String-interpolation\" data-toc-modified-id=\"String-interpolation-2.4.3\"><span class=\"toc-item-num\">2.4.3&nbsp;&nbsp;</span>String interpolation</a></span></li></ul></li></ul></li><li><span><a href=\"#연산자\" data-toc-modified-id=\"연산자-3\"><span class=\"toc-item-num\">3&nbsp;&nbsp;</span>연산자</a></span><ul class=\"toc-item\"><li><span><a href=\"#산술-연산자\" data-toc-modified-id=\"산술-연산자-3.1\"><span class=\"toc-item-num\">3.1&nbsp;&nbsp;</span>산술 연산자</a></span></li><li><span><a href=\"#비교-연산자\" data-toc-modified-id=\"비교-연산자-3.2\"><span class=\"toc-item-num\">3.2&nbsp;&nbsp;</span>비교 연산자</a></span></li><li><span><a href=\"#논리-연산자\" data-toc-modified-id=\"논리-연산자-3.3\"><span class=\"toc-item-num\">3.3&nbsp;&nbsp;</span>논리 연산자</a></span></li><li><span><a href=\"#복합-연산자\" data-toc-modified-id=\"복합-연산자-3.4\"><span class=\"toc-item-num\">3.4&nbsp;&nbsp;</span>복합 연산자</a></span></li><li><span><a href=\"#기타-연산자\" data-toc-modified-id=\"기타-연산자-3.5\"><span class=\"toc-item-num\">3.5&nbsp;&nbsp;</span>기타 연산자</a></span><ul class=\"toc-item\"><li><span><a href=\"#Concatenation\" data-toc-modified-id=\"Concatenation-3.5.1\"><span class=\"toc-item-num\">3.5.1&nbsp;&nbsp;</span>Concatenation</a></span></li><li><span><a href=\"#Containment-Test\" data-toc-modified-id=\"Containment-Test-3.5.2\"><span class=\"toc-item-num\">3.5.2&nbsp;&nbsp;</span>Containment Test</a></span></li><li><span><a href=\"#Identity\" data-toc-modified-id=\"Identity-3.5.3\"><span class=\"toc-item-num\">3.5.3&nbsp;&nbsp;</span>Identity</a></span></li><li><span><a href=\"#Indexing/Slicing\" data-toc-modified-id=\"Indexing/Slicing-3.5.4\"><span class=\"toc-item-num\">3.5.4&nbsp;&nbsp;</span>Indexing/Slicing</a></span></li></ul></li><li><span><a href=\"#연산자-우선순위\" data-toc-modified-id=\"연산자-우선순위-3.6\"><span class=\"toc-item-num\">3.6&nbsp;&nbsp;</span>연산자 우선순위</a></span></li></ul></li><li><span><a href=\"#기초-형변환(Type-conversion,-Typecasting)\" data-toc-modified-id=\"기초-형변환(Type-conversion,-Typecasting)-4\"><span class=\"toc-item-num\">4&nbsp;&nbsp;</span>기초 형변환(Type conversion, Typecasting)</a></span><ul class=\"toc-item\"><li><span><a href=\"#암시적-형변환(Implicit-Type-Conversion)\" data-toc-modified-id=\"암시적-형변환(Implicit-Type-Conversion)-4.1\"><span class=\"toc-item-num\">4.1&nbsp;&nbsp;</span>암시적 형변환(Implicit Type Conversion)</a></span></li><li><span><a href=\"#명시적-형변환(Explicit-Type-Conversion)\" data-toc-modified-id=\"명시적-형변환(Explicit-Type-Conversion)-4.2\"><span class=\"toc-item-num\">4.2&nbsp;&nbsp;</span>명시적 형변환(Explicit Type Conversion)</a></span></li></ul></li><li><span><a href=\"#시퀀스(sequence)-자료형\" data-toc-modified-id=\"시퀀스(sequence)-자료형-5\"><span class=\"toc-item-num\">5&nbsp;&nbsp;</span>시퀀스(sequence) 자료형</a></span><ul class=\"toc-item\"><li><span><a href=\"#list\" data-toc-modified-id=\"list-5.1\"><span class=\"toc-item-num\">5.1&nbsp;&nbsp;</span><code>list</code></a></span></li><li><span><a href=\"#tuple\" data-toc-modified-id=\"tuple-5.2\"><span class=\"toc-item-num\">5.2&nbsp;&nbsp;</span><code>tuple</code></a></span></li><li><span><a href=\"#range()\" data-toc-modified-id=\"range()-5.3\"><span class=\"toc-item-num\">5.3&nbsp;&nbsp;</span><code>range()</code></a></span></li><li><span><a href=\"#시퀀스에서-활용할-수-있는-연산자/함수\" data-toc-modified-id=\"시퀀스에서-활용할-수-있는-연산자/함수-5.4\"><span class=\"toc-item-num\">5.4&nbsp;&nbsp;</span>시퀀스에서 활용할 수 있는 연산자/함수</a></span></li></ul></li><li><span><a href=\"#set,-dictionary\" data-toc-modified-id=\"set,-dictionary-6\"><span class=\"toc-item-num\">6&nbsp;&nbsp;</span>set, dictionary</a></span><ul class=\"toc-item\"><li><span><a href=\"#set\" data-toc-modified-id=\"set-6.1\"><span class=\"toc-item-num\">6.1&nbsp;&nbsp;</span><code>set</code></a></span></li><li><span><a href=\"#dictionary\" data-toc-modified-id=\"dictionary-6.2\"><span class=\"toc-item-num\">6.2&nbsp;&nbsp;</span><code>dictionary</code></a></span></li></ul></li><li><span><a href=\"#정리\" data-toc-modified-id=\"정리-7\"><span class=\"toc-item-num\">7&nbsp;&nbsp;</span>정리</a></span><ul class=\"toc-item\"><li><span><a href=\"#데이터-타입\" data-toc-modified-id=\"데이터-타입-7.1\"><span class=\"toc-item-num\">7.1&nbsp;&nbsp;</span>데이터 타입</a></span></li><li><span><a href=\"#Type-Conversion\" data-toc-modified-id=\"Type-Conversion-7.2\"><span class=\"toc-item-num\">7.2&nbsp;&nbsp;</span>Type Conversion</a></span></li></ul></li></ul></div>"
   ]
  },
  {
   "cell_type": "markdown",
   "metadata": {
    "slideshow": {
     "slide_type": "slide"
    }
   },
   "source": [
    "# Python 기초\n",
    "\n",
    "## 개요\n",
    "\n",
    "본 강의 자료는 [Python 공식 Tutorial](https://docs.python.org/3.6/tutorial/index.html)에 근거하여 만들어졌으며, Python 3.6버전에 해당하는 내용을 담고 있습니다.\n",
    "\n",
    "또한, 파이썬에서 제공하는 스타일 가이드인 [`PEP-8`](https://www.python.org/dev/peps/pep-0008/) 내용을 반영하였습니다. \n",
    "\n",
    "파이썬을 활용하는 다양한 IT기업들은 대내외적으로 본인들의 스타일 가이드를 제공하고 있습니다. \n",
    "\n",
    "* [구글 스타일 가이드](https://github.com/google/styleguide/blob/gh-pages/pyguide.md)\n",
    "* [Tensorflow 스타일 가이드](https://www.tensorflow.org/community/style_guide)"
   ]
  },
  {
   "cell_type": "markdown",
   "metadata": {
    "slideshow": {
     "slide_type": "slide"
    }
   },
   "source": [
    "## 식별자\n",
    "\n",
    "파이썬에서 식별자는 변수, 함수, 모듈, 클래스 등을 식별하는데 사용되는 이름이다. \n",
    "\n",
    "* 식별자의 이름은 영문알파벳, \\_, 숫자로 구성된다.\n",
    "* 첫 글자에 숫자가 올 수 없다. \n",
    "* 대소문자를 구별한다.\n",
    "* 아래의 예약어는 사용할 수 없다. \n",
    "\n",
    "```\n",
    "False, None, True, and, as, assert, break, class, continue, def, del, elif, else, except, finally, for, from, global, if, import, in, is, lambda, nonlocal, not, or, pass, raise, return, try, while, with, yield\n",
    "```"
   ]
  },
  {
   "cell_type": "code",
   "execution_count": 2,
   "metadata": {
    "slideshow": {
     "slide_type": "subslide"
    }
   },
   "outputs": [
    {
     "name": "stdout",
     "output_type": "stream",
     "text": [
      "['False', 'None', 'True', 'and', 'as', 'assert', 'async', 'await', 'break', 'class', 'continue', 'def', 'del', 'elif', 'else', 'except', 'finally', 'for', 'from', 'global', 'if', 'import', 'in', 'is', 'lambda', 'nonlocal', 'not', 'or', 'pass', 'raise', 'return', 'try', 'while', 'with', 'yield']\n"
     ]
    }
   ],
   "source": [
    "import keyword\n",
    "print(keyword.kwlist)"
   ]
  },
  {
   "cell_type": "markdown",
   "metadata": {
    "slideshow": {
     "slide_type": "subslide"
    }
   },
   "source": [
    "*  내장함수나 모듈 등의 이름으로도 만들면 안된다."
   ]
  },
  {
   "cell_type": "code",
   "execution_count": 3,
   "metadata": {},
   "outputs": [
    {
     "data": {
      "text/plain": [
       "'5'"
      ]
     },
     "execution_count": 3,
     "metadata": {},
     "output_type": "execute_result"
    }
   ],
   "source": [
    "str(5)"
   ]
  },
  {
   "cell_type": "code",
   "execution_count": 4,
   "metadata": {},
   "outputs": [
    {
     "ename": "TypeError",
     "evalue": "'str' object is not callable",
     "output_type": "error",
     "traceback": [
      "\u001b[1;31m---------------------------------------------------------------------------\u001b[0m",
      "\u001b[1;31mTypeError\u001b[0m                                 Traceback (most recent call last)",
      "\u001b[1;32m<ipython-input-4-0ff51483eb31>\u001b[0m in \u001b[0;36m<module>\u001b[1;34m\u001b[0m\n\u001b[0;32m      1\u001b[0m \u001b[1;31m# str() 형변환 함수로 정해진 식별자로 변수를 할당해버리면, 함수호출이 되지 않음.\u001b[0m\u001b[1;33m\u001b[0m\u001b[1;33m\u001b[0m\u001b[1;33m\u001b[0m\u001b[0m\n\u001b[0;32m      2\u001b[0m \u001b[0mstr\u001b[0m \u001b[1;33m=\u001b[0m \u001b[1;34m'hi'\u001b[0m\u001b[1;33m\u001b[0m\u001b[1;33m\u001b[0m\u001b[0m\n\u001b[1;32m----> 3\u001b[1;33m \u001b[0mstr\u001b[0m\u001b[1;33m(\u001b[0m\u001b[1;36m5\u001b[0m\u001b[1;33m)\u001b[0m\u001b[1;33m\u001b[0m\u001b[1;33m\u001b[0m\u001b[0m\n\u001b[0m",
      "\u001b[1;31mTypeError\u001b[0m: 'str' object is not callable"
     ]
    }
   ],
   "source": [
    "# str() 형변환 함수로 정해진 식별자로 변수를 할당해버리면, 함수호출이 되지 않음.\n",
    "str = 'hi'\n",
    "str(5)"
   ]
  },
  {
   "cell_type": "code",
   "execution_count": 1,
   "metadata": {
    "slideshow": {
     "slide_type": "subslide"
    }
   },
   "outputs": [
    {
     "data": {
      "text/plain": [
       "'5'"
      ]
     },
     "execution_count": 1,
     "metadata": {},
     "output_type": "execute_result"
    }
   ],
   "source": [
    "# 뒤에 코드에 영향이 가니까 변수를 메모리에서 지워줍시다!\n",
    "\n",
    "str(5)"
   ]
  },
  {
   "cell_type": "markdown",
   "metadata": {
    "slideshow": {
     "slide_type": "slide"
    }
   },
   "source": [
    "## 기초 문법\n",
    "\n",
    "### 인코딩 선언\n",
    "\n",
    "인코딩은 선언하지 않더라도 `UTF-8`로 기본 설정이 되어 있다. "
   ]
  },
  {
   "cell_type": "markdown",
   "metadata": {
    "slideshow": {
     "slide_type": "subslide"
    }
   },
   "source": [
    "만약, 인코딩을 설정하려면 코드 상단에 아래와 같이 선언한다. 주석으로 보이지만, Python `parser`에 의해 읽혀진다."
   ]
  },
  {
   "cell_type": "code",
   "execution_count": 8,
   "metadata": {
    "slideshow": {
     "slide_type": "-"
    }
   },
   "outputs": [],
   "source": [
    "# -*- coding: <encoding-name> -*- "
   ]
  },
  {
   "cell_type": "code",
   "execution_count": 9,
   "metadata": {},
   "outputs": [],
   "source": [
    "# -*- coding: utf-8 -*-"
   ]
  },
  {
   "cell_type": "markdown",
   "metadata": {
    "slideshow": {
     "slide_type": "subslide"
    }
   },
   "source": [
    "### 주석(Comment)\n",
    "\n",
    "* 주석은 `#`으로 표현한다. \n",
    "* `docstring`은 `\"\"\"`으로 표현한다. \n",
    "   \n",
    "   : 여러 줄의 주석을 작성할 수 있으며, 보통 함수/클래스 선언 다음에 해당하는 설명을 위해 활용한다."
   ]
  },
  {
   "cell_type": "markdown",
   "metadata": {
    "slideshow": {
     "slide_type": "subslide"
    }
   },
   "source": [
    "* 예시 : flask 공식 문서 일부 발췌\n",
    "![flask 공식문서 예시](./images/01/docstring.png)"
   ]
  },
  {
   "cell_type": "code",
   "execution_count": 10,
   "metadata": {
    "slideshow": {
     "slide_type": "subslide"
    }
   },
   "outputs": [
    {
     "name": "stdout",
     "output_type": "stream",
     "text": [
      "3\n"
     ]
    }
   ],
   "source": [
    "def mysum(a, b):\n",
    "    \"\"\"\n",
    "    이것은 덧셈 함수입니다.\n",
    "    이줄은 실행되지 않습니다.\n",
    "    다만 docstring인 이유가 있습니다.\n",
    "    \"\"\"\n",
    "    return a+b\n",
    "\n",
    "print(mysum(1,2))"
   ]
  },
  {
   "cell_type": "code",
   "execution_count": 1,
   "metadata": {},
   "outputs": [
    {
     "ename": "NameError",
     "evalue": "name 'mysum' is not defined",
     "output_type": "error",
     "traceback": [
      "\u001b[1;31m---------------------------------------------------------------------------\u001b[0m",
      "\u001b[1;31mNameError\u001b[0m                                 Traceback (most recent call last)",
      "\u001b[1;32m<ipython-input-1-6b220c2f930d>\u001b[0m in \u001b[0;36m<module>\u001b[1;34m\u001b[0m\n\u001b[1;32m----> 1\u001b[1;33m \u001b[0mmysum\u001b[0m\u001b[1;33m.\u001b[0m\u001b[0m__doc__\u001b[0m\u001b[1;33m\u001b[0m\u001b[1;33m\u001b[0m\u001b[0m\n\u001b[0m",
      "\u001b[1;31mNameError\u001b[0m: name 'mysum' is not defined"
     ]
    }
   ],
   "source": [
    "mysum.__doc__"
   ]
  },
  {
   "cell_type": "markdown",
   "metadata": {
    "slideshow": {
     "slide_type": "subslide"
    }
   },
   "source": [
    "### 코드 라인\n",
    "* 기본적으로 파이썬에서는 `;` 을 작성하지 않는다."
   ]
  },
  {
   "cell_type": "code",
   "execution_count": 13,
   "metadata": {},
   "outputs": [
    {
     "name": "stdout",
     "output_type": "stream",
     "text": [
      "hello\n",
      "world\n"
     ]
    }
   ],
   "source": [
    "print('hello')\n",
    "print('world')"
   ]
  },
  {
   "cell_type": "markdown",
   "metadata": {
    "slideshow": {
     "slide_type": "subslide"
    }
   },
   "source": [
    "* 한 줄로 표기할 때는 `;`를 작성하여 표기할 수 있다."
   ]
  },
  {
   "cell_type": "code",
   "execution_count": 14,
   "metadata": {},
   "outputs": [
    {
     "name": "stdout",
     "output_type": "stream",
     "text": [
      "hello\n",
      "world\n"
     ]
    }
   ],
   "source": [
    "print('hello');print('world')"
   ]
  },
  {
   "cell_type": "code",
   "execution_count": null,
   "metadata": {},
   "outputs": [],
   "source": []
  },
  {
   "cell_type": "markdown",
   "metadata": {
    "slideshow": {
     "slide_type": "subslide"
    }
   },
   "source": [
    "* 줄을 여러줄 작성할 때는 역슬래시`\\`를 사용하여 아래와 같이 할 수 있다. "
   ]
  },
  {
   "cell_type": "code",
   "execution_count": 17,
   "metadata": {},
   "outputs": [
    {
     "name": "stdout",
     "output_type": "stream",
     "text": [
      "0\n"
     ]
    }
   ],
   "source": [
    "a = 0\n",
    "if a \\\n",
    "== 0:\n",
    "    print(a)"
   ]
  },
  {
   "cell_type": "code",
   "execution_count": null,
   "metadata": {},
   "outputs": [],
   "source": []
  },
  {
   "cell_type": "markdown",
   "metadata": {
    "slideshow": {
     "slide_type": "subslide"
    }
   },
   "source": [
    "* `[]` `{}` `()`는 `\\` 없이도 가능하다."
   ]
  },
  {
   "cell_type": "code",
   "execution_count": 20,
   "metadata": {},
   "outputs": [
    {
     "name": "stdout",
     "output_type": "stream",
     "text": [
      "['짜장면', '짬뽕', '탕수육', '군만두', '물만두']\n"
     ]
    }
   ],
   "source": [
    "lunch = [\n",
    "    '짜장면', '짬뽕', '탕수육',\n",
    "    '군만두', '물만두'\n",
    "]\n",
    "print(lunch)"
   ]
  },
  {
   "cell_type": "markdown",
   "metadata": {
    "slideshow": {
     "slide_type": "slide"
    }
   },
   "source": [
    "# 변수(variable) 및 자료형\n",
    "\n",
    "<center><img src=\"./images/01/variable.png\", alt=\"variable\"/></center>"
   ]
  },
  {
   "cell_type": "markdown",
   "metadata": {
    "slideshow": {
     "slide_type": "subslide"
    }
   },
   "source": [
    "<center><img src=\"./images/01/box.png\", alt=\"box\"/></center>"
   ]
  },
  {
   "cell_type": "markdown",
   "metadata": {
    "slideshow": {
     "slide_type": "subslide"
    }
   },
   "source": [
    "* 변수는 `=`을 통해 할당(assignment) 된다. \n",
    "\n",
    "* 해당 자료형을 확인하기 위해서는 `type()`을 활용한다.\n",
    "\n",
    "* 해당 변수의 메모리 주소를 확인하기 위해서는 `id()`를 활용한다."
   ]
  },
  {
   "cell_type": "code",
   "execution_count": 1,
   "metadata": {},
   "outputs": [
    {
     "name": "stdout",
     "output_type": "stream",
     "text": [
      "1004\n",
      "<class 'int'>\n",
      "1897946911408\n"
     ]
    }
   ],
   "source": [
    "a = 1004\n",
    "print(a)\n",
    "print(type(a))\n",
    "print(id(a))"
   ]
  },
  {
   "cell_type": "markdown",
   "metadata": {
    "slideshow": {
     "slide_type": "subslide"
    }
   },
   "source": [
    "* 같은 값을 동시에 할당할 수 있다."
   ]
  },
  {
   "cell_type": "code",
   "execution_count": 26,
   "metadata": {},
   "outputs": [
    {
     "name": "stdout",
     "output_type": "stream",
     "text": [
      "1004 1004\n"
     ]
    }
   ],
   "source": [
    "x = y = 1004\n",
    "print(x,y)\n"
   ]
  },
  {
   "cell_type": "markdown",
   "metadata": {
    "slideshow": {
     "slide_type": "subslide"
    }
   },
   "source": [
    "* 다른 값도 동시에 할당할 수 있다."
   ]
  },
  {
   "cell_type": "code",
   "execution_count": 28,
   "metadata": {},
   "outputs": [
    {
     "name": "stdout",
     "output_type": "stream",
     "text": [
      "1004 1005\n"
     ]
    }
   ],
   "source": [
    "x, y = 1004, 1005\n",
    "print(x,y)"
   ]
  },
  {
   "cell_type": "code",
   "execution_count": null,
   "metadata": {},
   "outputs": [],
   "source": []
  },
  {
   "cell_type": "code",
   "execution_count": null,
   "metadata": {},
   "outputs": [],
   "source": []
  },
  {
   "cell_type": "markdown",
   "metadata": {
    "slideshow": {
     "slide_type": "subslide"
    }
   },
   "source": [
    "* 이를 활용하면 서로 값을 바꾸고 싶은 경우 아래와 같이 활용 가능하다."
   ]
  },
  {
   "cell_type": "code",
   "execution_count": 35,
   "metadata": {},
   "outputs": [
    {
     "name": "stdout",
     "output_type": "stream",
     "text": [
      "1005 1004\n"
     ]
    }
   ],
   "source": [
    "x,y = y,x\n",
    "print(x,y)"
   ]
  },
  {
   "cell_type": "markdown",
   "metadata": {
    "slideshow": {
     "slide_type": "slide"
    }
   },
   "source": [
    "## 수치형(Numbers)\n",
    "\n",
    "###  `int` (정수)\n",
    "\n",
    "- 모든 정수는 `int`로 표현된다.\n",
    "\n",
    "- 파이썬 3.x 버전에서는 `long` 타입은 없고 모두 `int` 형으로 표기 된다.\n",
    "\n",
    "- 10진수가 아닌 8진수 : `0o`/2진수 : `0b` /16진수: `0x`로도 표현 가능하다. "
   ]
  },
  {
   "cell_type": "code",
   "execution_count": 36,
   "metadata": {
    "slideshow": {
     "slide_type": "subslide"
    }
   },
   "outputs": [
    {
     "name": "stdout",
     "output_type": "stream",
     "text": [
      "<class 'int'>\n"
     ]
    }
   ],
   "source": [
    "a = 3\n",
    "print(type(a))"
   ]
  },
  {
   "cell_type": "code",
   "execution_count": 37,
   "metadata": {
    "slideshow": {
     "slide_type": "subslide"
    }
   },
   "outputs": [
    {
     "name": "stdout",
     "output_type": "stream",
     "text": [
      "340282366920938463463374607431768211456\n",
      "<class 'int'>\n"
     ]
    }
   ],
   "source": [
    "# 보통 프로그래밍 언어 및 파이썬 2.x에서의 long은 OS 기준 32/64비트이다.\n",
    "# 파이썬 3.x에서는 모두 int로 통합되었다.\n",
    "a = 2**128\n",
    "print(a)\n",
    "print(type(a))"
   ]
  },
  {
   "cell_type": "code",
   "execution_count": 38,
   "metadata": {
    "slideshow": {
     "slide_type": "subslide"
    }
   },
   "outputs": [
    {
     "name": "stdout",
     "output_type": "stream",
     "text": [
      "9223372036854775807\n",
      "85070591730234615847396907784232501249\n"
     ]
    }
   ],
   "source": [
    "# 파이썬은 기존 C 계열 프로그래밍 언어와 다르게 정수 자료형에서 오버플로우가 없다.\n",
    "# arbitrary-precision arithmetic를 사용하기 때문이다. \n",
    "import sys\n",
    "max_int = sys.maxsize\n",
    "print(max_int)\n",
    "a = sys.maxsize * sys.maxsize\n",
    "print(a)"
   ]
  },
  {
   "cell_type": "code",
   "execution_count": 39,
   "metadata": {
    "slideshow": {
     "slide_type": "subslide"
    }
   },
   "outputs": [
    {
     "name": "stdout",
     "output_type": "stream",
     "text": [
      "\n",
      "2진수: 2\n",
      "8진수: 8\n",
      "10진수: 10\n",
      "16진수: 16\n",
      "\n"
     ]
    }
   ],
   "source": [
    "# n진수\n",
    "binary_num = 0b10\n",
    "octal_num = 0o10\n",
    "decimal_num = 10\n",
    "hexadecimal_num = 0x10\n",
    "print(f\"\"\"\n",
    "2진수: {binary_num}\n",
    "8진수: {octal_num}\n",
    "10진수: {decimal_num}\n",
    "16진수: {hexadecimal_num}\n",
    "\"\"\")"
   ]
  },
  {
   "cell_type": "markdown",
   "metadata": {
    "slideshow": {
     "slide_type": "slide"
    }
   },
   "source": [
    "### `float`(부동소수점, 실수)\n",
    "\n",
    "실수는 `float`로 표현된다. \n",
    "\n",
    "다만, 실수를 컴퓨터가 표현하는 과정에서 부동소수점을 사용하며, 항상 같은 값으로 일치되지 않는다. (floating point rounding error)\n",
    "\n",
    "이는 컴퓨터가 2진수(비트)를 통해 숫자를 표현하는 과정에서 생기는 오류이며, 대부분의 경우는 중요하지 않으나 값을 같은지 비교하는 과정에서 문제가 발생할 수 있다.\n"
   ]
  },
  {
   "cell_type": "code",
   "execution_count": 45,
   "metadata": {
    "slideshow": {
     "slide_type": "subslide"
    }
   },
   "outputs": [
    {
     "name": "stdout",
     "output_type": "stream",
     "text": [
      "0.3799999999999999\n"
     ]
    }
   ],
   "source": [
    "a = 3.5 - 3.12\n",
    "print(a)"
   ]
  },
  {
   "cell_type": "code",
   "execution_count": 2,
   "metadata": {},
   "outputs": [
    {
     "data": {
      "text/plain": [
       "float"
      ]
     },
     "execution_count": 2,
     "metadata": {},
     "output_type": "execute_result"
    }
   ],
   "source": [
    "b = 314e-2\n",
    "type(b)"
   ]
  },
  {
   "cell_type": "markdown",
   "metadata": {
    "slideshow": {
     "slide_type": "subslide"
    }
   },
   "source": [
    "* 실수의 경우 실제로 값을 처리하기 위해서는 조심할 필요가 있다."
   ]
  },
  {
   "cell_type": "code",
   "execution_count": 5,
   "metadata": {
    "slideshow": {
     "slide_type": "-"
    }
   },
   "outputs": [
    {
     "data": {
      "text/plain": [
       "0.38"
      ]
     },
     "execution_count": 5,
     "metadata": {},
     "output_type": "execute_result"
    }
   ],
   "source": [
    "round(3.5 - 3.12, 2)"
   ]
  },
  {
   "cell_type": "code",
   "execution_count": 8,
   "metadata": {
    "slideshow": {
     "slide_type": "-"
    }
   },
   "outputs": [
    {
     "name": "stdout",
     "output_type": "stream",
     "text": [
      "False\n",
      "0.6000000000000001\n"
     ]
    }
   ],
   "source": [
    "print(0.1 * 3 == 0.3)\n",
    "print((0.1 * 3)*2)"
   ]
  },
  {
   "cell_type": "code",
   "execution_count": null,
   "metadata": {
    "slideshow": {
     "slide_type": "subslide"
    }
   },
   "outputs": [],
   "source": []
  },
  {
   "cell_type": "code",
   "execution_count": null,
   "metadata": {
    "slideshow": {
     "slide_type": "subslide"
    }
   },
   "outputs": [],
   "source": [
    "i"
   ]
  },
  {
   "cell_type": "code",
   "execution_count": null,
   "metadata": {
    "slideshow": {
     "slide_type": "-"
    }
   },
   "outputs": [],
   "source": []
  },
  {
   "cell_type": "markdown",
   "metadata": {
    "slideshow": {
     "slide_type": "subslide"
    }
   },
   "source": [
    "- 따라서 다음과 같은 방법으로 처리 할 수 있다.(이외에 다양한 방법이 있음)"
   ]
  },
  {
   "cell_type": "code",
   "execution_count": 10,
   "metadata": {
    "slideshow": {
     "slide_type": "-"
    }
   },
   "outputs": [
    {
     "name": "stdout",
     "output_type": "stream",
     "text": [
      "5.551115123125783e-17\n"
     ]
    },
    {
     "data": {
      "text/plain": [
       "True"
      ]
     },
     "execution_count": 10,
     "metadata": {},
     "output_type": "execute_result"
    }
   ],
   "source": [
    "# 처리방법 1-1. 절대값을 비교\n",
    "a = 0.1 * 3\n",
    "b = 0.3\n",
    "print(abs(a-b))\n",
    "abs(a-b) <= 1e-10"
   ]
  },
  {
   "cell_type": "code",
   "execution_count": 11,
   "metadata": {
    "slideshow": {
     "slide_type": "-"
    }
   },
   "outputs": [
    {
     "data": {
      "text/plain": [
       "True"
      ]
     },
     "execution_count": 11,
     "metadata": {},
     "output_type": "execute_result"
    }
   ],
   "source": [
    "# 처리방법 1-2. 절대값 비교를 내장된 float epsilon값과 비교\n",
    "import sys\n",
    "abs(a-b) <= sys.float_info.epsilon"
   ]
  },
  {
   "cell_type": "code",
   "execution_count": 53,
   "metadata": {
    "slideshow": {
     "slide_type": "subslide"
    }
   },
   "outputs": [
    {
     "data": {
      "text/plain": [
       "True"
      ]
     },
     "execution_count": 53,
     "metadata": {},
     "output_type": "execute_result"
    }
   ],
   "source": [
    "# 처리방법 2. math 모듈을 통해 근사한 값인지 비교\n",
    "# python 3.5부터는 math 모듈을 활용할 수 있다.\n",
    "import math\n",
    "math.isclose(a, b)"
   ]
  },
  {
   "cell_type": "markdown",
   "metadata": {
    "slideshow": {
     "slide_type": "slide"
    }
   },
   "source": [
    "### `complex` (복소수)\n",
    "\n",
    "복소수는 허수부를 `j`로 표현한다. "
   ]
  },
  {
   "cell_type": "code",
   "execution_count": 54,
   "metadata": {},
   "outputs": [
    {
     "data": {
      "text/plain": [
       "complex"
      ]
     },
     "execution_count": 54,
     "metadata": {},
     "output_type": "execute_result"
    }
   ],
   "source": [
    "a = 3 - 4j\n",
    "type(a)"
   ]
  },
  {
   "cell_type": "code",
   "execution_count": 55,
   "metadata": {},
   "outputs": [
    {
     "name": "stdout",
     "output_type": "stream",
     "text": [
      "-4.0\n",
      "3.0\n",
      "<built-in method conjugate of complex object at 0x0000018C989D35B0>\n"
     ]
    }
   ],
   "source": [
    "print(a.imag)\n",
    "print(a.real)\n",
    "print(a.conjugate)"
   ]
  },
  {
   "cell_type": "markdown",
   "metadata": {
    "slideshow": {
     "slide_type": "slide"
    }
   },
   "source": [
    "## Bool\n",
    "\n",
    "파이썬에는 `True`와 `False`로 이뤄진 `bool` 타입이 있다.\n",
    "\n",
    "비교/논리 연산을 수행 등에서 활용된다.\n",
    "\n",
    "다음은 `False`로 변환됩니다.\n",
    "```\n",
    "0, 0.0, (), [], {}, '', None\n",
    "```"
   ]
  },
  {
   "cell_type": "code",
   "execution_count": null,
   "metadata": {},
   "outputs": [],
   "source": []
  },
  {
   "cell_type": "markdown",
   "metadata": {
    "slideshow": {
     "slide_type": "subslide"
    }
   },
   "source": [
    "* 형변환(Type Conversion)에서 추가적으로 다루는 내용입니다."
   ]
  },
  {
   "cell_type": "code",
   "execution_count": 56,
   "metadata": {},
   "outputs": [
    {
     "data": {
      "text/plain": [
       "False"
      ]
     },
     "execution_count": 56,
     "metadata": {},
     "output_type": "execute_result"
    }
   ],
   "source": [
    "bool(0)"
   ]
  },
  {
   "cell_type": "code",
   "execution_count": 13,
   "metadata": {},
   "outputs": [
    {
     "name": "stdout",
     "output_type": "stream",
     "text": [
      "[1, 2, 3]\n",
      "True\n"
     ]
    }
   ],
   "source": [
    "l = [1, 2, 3]\n",
    "if l:\n",
    "    print(l)\n",
    "print(bool(l))"
   ]
  },
  {
   "cell_type": "code",
   "execution_count": 58,
   "metadata": {},
   "outputs": [
    {
     "data": {
      "text/plain": [
       "False"
      ]
     },
     "execution_count": 58,
     "metadata": {},
     "output_type": "execute_result"
    }
   ],
   "source": [
    "bool(None)"
   ]
  },
  {
   "cell_type": "code",
   "execution_count": 59,
   "metadata": {
    "slideshow": {
     "slide_type": "subslide"
    }
   },
   "outputs": [
    {
     "data": {
      "text/plain": [
       "False"
      ]
     },
     "execution_count": 59,
     "metadata": {},
     "output_type": "execute_result"
    }
   ],
   "source": [
    "bool([])"
   ]
  },
  {
   "cell_type": "code",
   "execution_count": 60,
   "metadata": {},
   "outputs": [
    {
     "data": {
      "text/plain": [
       "False"
      ]
     },
     "execution_count": 60,
     "metadata": {},
     "output_type": "execute_result"
    }
   ],
   "source": [
    "bool(\"\")"
   ]
  },
  {
   "cell_type": "code",
   "execution_count": 61,
   "metadata": {},
   "outputs": [
    {
     "data": {
      "text/plain": [
       "False"
      ]
     },
     "execution_count": 61,
     "metadata": {},
     "output_type": "execute_result"
    }
   ],
   "source": [
    "bool(())"
   ]
  },
  {
   "cell_type": "code",
   "execution_count": 62,
   "metadata": {},
   "outputs": [
    {
     "data": {
      "text/plain": [
       "True"
      ]
     },
     "execution_count": 62,
     "metadata": {},
     "output_type": "execute_result"
    }
   ],
   "source": [
    "bool('hi')"
   ]
  },
  {
   "cell_type": "markdown",
   "metadata": {
    "slideshow": {
     "slide_type": "slide"
    }
   },
   "source": [
    "## None\n",
    "\n",
    "파이썬에서는 값이 없음을 표현하기 위해 `None`타입이 존재합니다."
   ]
  },
  {
   "cell_type": "code",
   "execution_count": 64,
   "metadata": {},
   "outputs": [
    {
     "data": {
      "text/plain": [
       "NoneType"
      ]
     },
     "execution_count": 64,
     "metadata": {},
     "output_type": "execute_result"
    }
   ],
   "source": [
    "type(None)"
   ]
  },
  {
   "cell_type": "code",
   "execution_count": 66,
   "metadata": {},
   "outputs": [
    {
     "name": "stdout",
     "output_type": "stream",
     "text": [
      "None\n"
     ]
    }
   ],
   "source": [
    "a = None\n",
    "print(a)"
   ]
  },
  {
   "cell_type": "markdown",
   "metadata": {
    "slideshow": {
     "slide_type": "slide"
    }
   },
   "source": [
    "## 문자형(String)\n",
    "\n",
    "### 기본 활용법\n",
    "\n",
    "문자열은 Single quotes(`'`)나 Double quotes(`\"`)을 활용하여 표현 가능하다. \n",
    "\n",
    "단, 문자열을 묶을 때 동일한 문장부호를 활용해야하며, `PEP-8`에서는 **하나의 문장부호를 선택**하여 유지하도록 하고 있습니다. \n",
    "(Pick a rule and Stick to it)"
   ]
  },
  {
   "cell_type": "code",
   "execution_count": 69,
   "metadata": {},
   "outputs": [
    {
     "name": "stdout",
     "output_type": "stream",
     "text": [
      "Hi,  Gyujin Lee \n",
      "Hi,  Gyujin Lee \n"
     ]
    }
   ],
   "source": [
    "greeting = 'Hi'\n",
    "name = ' Gyujin Lee '\n",
    "print(f'{greeting}, {name}')\n",
    "print('{}, {}'.format(greeting, name))"
   ]
  },
  {
   "cell_type": "markdown",
   "metadata": {
    "slideshow": {
     "slide_type": "subslide"
    }
   },
   "source": [
    "* 다만 문자열 안에 문장부호(`'`, `\"`)가 활용될 경우 이스케이프 문자(`\\`)를 사용하는 것 대신 활용 가능 합니다. "
   ]
  },
  {
   "cell_type": "code",
   "execution_count": null,
   "metadata": {},
   "outputs": [],
   "source": [
    "#이렇게 하면 오류가 남\n",
    "print('철수가 말했다. '민수야 안녕?'\\')"
   ]
  },
  {
   "cell_type": "code",
   "execution_count": 73,
   "metadata": {},
   "outputs": [
    {
     "name": "stdout",
     "output_type": "stream",
     "text": [
      "철수가 말했다. '민수야 안녕?'\n",
      "철수가 말했다. '민수야 안녕?'\n",
      "철수가 말했다. \"민수야 안녕?\"\n"
     ]
    }
   ],
   "source": [
    "print('철수가 말했다. \\'민수야 안녕?\\'')\n",
    "print(\"철수가 말했다. '민수야 안녕?'\")\n",
    "print('''철수가 말했다. \"민수야 안녕?\"''')"
   ]
  },
  {
   "cell_type": "markdown",
   "metadata": {
    "slideshow": {
     "slide_type": "subslide"
    }
   },
   "source": [
    "* 여러줄에 걸쳐있는 문장은 다음과 같이 표현 가능합니다.\n",
    "\n",
    "`PEP-8`에 따르면 이 경우에는 반드시 `\"\"\"`를 사용하도록 되어 있습니다."
   ]
  },
  {
   "cell_type": "code",
   "execution_count": null,
   "metadata": {},
   "outputs": [],
   "source": [
    "print(\"\"\"\n",
    "개행문자 없이\n",
    "여러줄 그대로 출력 가능합니다.\n",
    "\"\"\")"
   ]
  },
  {
   "cell_type": "code",
   "execution_count": 74,
   "metadata": {},
   "outputs": [
    {
     "name": "stdout",
     "output_type": "stream",
     "text": [
      "\n",
      "물론, 이렇게도 가능합니다.\n",
      "True!\n",
      "\n"
     ]
    }
   ],
   "source": [
    "a = True\n",
    "print(f\"\"\"\n",
    "물론, 이렇게도 가능합니다.\n",
    "{a}!\n",
    "\"\"\")"
   ]
  },
  {
   "cell_type": "markdown",
   "metadata": {
    "slideshow": {
     "slide_type": "slide"
    }
   },
   "source": [
    "### 이스케이프 문자열\n",
    "\n",
    "문자열을 활용하는 경우 특수문자 혹은 조작을 하기 위하여 사용되는 것으로 `\\`를 활용하여 이를 구분한다. \n",
    "\n",
    "|<center>예약문자</center>|내용(의미)|\n",
    "|:--------:|:--------:|\n",
    "|\\n|줄바꿈|\n",
    "|\\t|탭|\n",
    "|\\r|캐리지리턴|\n",
    "|\\0|널(Null)|\n",
    "|`\\\\`|`\\`|\n",
    "|`\\'`|단일인용부호(')|\n",
    "|`\\\"`|이중인용부호(\")|"
   ]
  },
  {
   "cell_type": "code",
   "execution_count": 75,
   "metadata": {},
   "outputs": [
    {
     "name": "stdout",
     "output_type": "stream",
     "text": [
      "이 다음은 엔터.\n",
      "그리고 탭\t탭.\n"
     ]
    }
   ],
   "source": [
    "print('이 다음은 엔터.\\n그리고 탭\\t탭.')"
   ]
  },
  {
   "cell_type": "markdown",
   "metadata": {
    "slideshow": {
     "slide_type": "subslide"
    }
   },
   "source": [
    "* print 할 때 활용할 수 있다."
   ]
  },
  {
   "cell_type": "code",
   "execution_count": 8,
   "metadata": {},
   "outputs": [
    {
     "name": "stdout",
     "output_type": "stream",
     "text": [
      "내용을 띄워서 출력하고 싶으면?\t옆으로 띄워짐.\n"
     ]
    }
   ],
   "source": [
    "print('내용을 띄워서 출력하고 싶으면?', end='\\t')\n",
    "print('옆으로 띄워짐.')"
   ]
  },
  {
   "cell_type": "markdown",
   "metadata": {},
   "source": [
    "- 이스케이프 문자열 말고 다른 일반 문자열을 사용할 수도 있다."
   ]
  },
  {
   "cell_type": "code",
   "execution_count": 18,
   "metadata": {
    "slideshow": {
     "slide_type": "subslide"
    }
   },
   "outputs": [
    {
     "name": "stdout",
     "output_type": "stream",
     "text": [
      "개행 문자 말고도 가능합니다알고보면 print의 end는 기본이 \\n\n"
     ]
    }
   ],
   "source": [
    "print('개행 문자 말고도 가능합니다', end='')\n",
    "print('알고보면 print의 end는 기본이 \\\\n')"
   ]
  },
  {
   "cell_type": "markdown",
   "metadata": {
    "slideshow": {
     "slide_type": "subslide"
    }
   },
   "source": [
    "#### 깜짝 퀴즈\n",
    "\n",
    "다음의 문장을 출력해보세요.\n",
    "\n",
    "- `\"\"\"` 사용 금지\n",
    "- `print` 여러번 사용 금지\n",
    "\n",
    "\n",
    "```\n",
    "\"파일은 C:\\Windows\\Users\\내문서\\Python에 저장이 되어있습니다.\"\n",
    "나는 생각했다. 'cd를 써서 git bash로 들어가봐야지'\n",
    "```"
   ]
  },
  {
   "cell_type": "code",
   "execution_count": 99,
   "metadata": {},
   "outputs": [
    {
     "name": "stdout",
     "output_type": "stream",
     "text": [
      "\"파일은 C;\\WindowsWWUsersWW내문서WWPython에 저장이 되어있습니다.\"\n",
      "나는 생각했다. 'cd를 써서 git bash'로 들어가봐야지'\n"
     ]
    }
   ],
   "source": [
    "# 여기에 코드를 작성해주세요.\n",
    "print('\"파일은 C;\\\\WindowsWWUsersWW내문서WWPython에 저장이 되어있습니다.\"\\n'\n",
    "\"나는 생각했다. 'cd를 써서 git bash'로 들어가봐야지'\")"
   ]
  },
  {
   "cell_type": "markdown",
   "metadata": {
    "slideshow": {
     "slide_type": "slide"
    }
   },
   "source": [
    "### String interpolation \n",
    "\n",
    "1) `%-formatting` \n",
    "\n",
    "2) [`str.format()` ](https://pyformat.info/)\n",
    "\n",
    "3) [`f-strings`](https://www.python.org/dev/peps/pep-0498/) : 파이썬 3.6 버전 이후에 지원 되는 사항입니다.\n",
    "\n",
    "본 슬라이드에서는 `f-strings`의 기본적인 활용법만 알려드리고 나머지 `.format()`는 해당 [링크](https://pyformat.info/)에서 확인바랍니다."
   ]
  },
  {
   "cell_type": "code",
   "execution_count": 102,
   "metadata": {
    "slideshow": {
     "slide_type": "subslide"
    }
   },
   "outputs": [],
   "source": [
    "name = 'Gyujin Lee'"
   ]
  },
  {
   "cell_type": "code",
   "execution_count": 100,
   "metadata": {},
   "outputs": [
    {
     "data": {
      "text/plain": [
       "'Hello,  Gyujin Lee '"
      ]
     },
     "execution_count": 100,
     "metadata": {},
     "output_type": "execute_result"
    }
   ],
   "source": [
    "'Hello, %s' % name"
   ]
  },
  {
   "cell_type": "code",
   "execution_count": 103,
   "metadata": {},
   "outputs": [
    {
     "data": {
      "text/plain": [
       "'Hello, Gyujin Lee'"
      ]
     },
     "execution_count": 103,
     "metadata": {},
     "output_type": "execute_result"
    }
   ],
   "source": [
    "'Hello, {}'.format(name)"
   ]
  },
  {
   "cell_type": "code",
   "execution_count": 104,
   "metadata": {},
   "outputs": [
    {
     "data": {
      "text/plain": [
       "'Hello, Gyujin Lee'"
      ]
     },
     "execution_count": 104,
     "metadata": {},
     "output_type": "execute_result"
    }
   ],
   "source": [
    "f'Hello, {name}'"
   ]
  },
  {
   "cell_type": "markdown",
   "metadata": {
    "slideshow": {
     "slide_type": "subslide"
    }
   },
   "source": [
    "* f-strings에서는 형식을 지정할 수 있으며,"
   ]
  },
  {
   "cell_type": "code",
   "execution_count": 105,
   "metadata": {},
   "outputs": [
    {
     "name": "stdout",
     "output_type": "stream",
     "text": [
      "2019-01-02 14:56:58.796100\n"
     ]
    }
   ],
   "source": [
    "import datetime\n",
    "today = datetime.datetime.now()\n",
    "print(today)"
   ]
  },
  {
   "cell_type": "code",
   "execution_count": 107,
   "metadata": {},
   "outputs": [
    {
     "data": {
      "text/plain": [
       "'오늘은 19년 01월 02일 Wednesday'"
      ]
     },
     "execution_count": 107,
     "metadata": {},
     "output_type": "execute_result"
    }
   ],
   "source": [
    "f'오늘은 {today:%y}년 {today:%m}월 {today:%d}일 {today:%A}'"
   ]
  },
  {
   "cell_type": "markdown",
   "metadata": {
    "slideshow": {
     "slide_type": "subslide"
    }
   },
   "source": [
    "* 연산도 가능합니다."
   ]
  },
  {
   "cell_type": "code",
   "execution_count": 114,
   "metadata": {},
   "outputs": [
    {
     "data": {
      "text/plain": [
       "'원주율은 3.14 반지름이 2일때 원의 넓이는 12.566368'"
      ]
     },
     "execution_count": 114,
     "metadata": {},
     "output_type": "execute_result"
    }
   ],
   "source": [
    "pi = 3.141592\n",
    "f'원주율은 {pi:.3} 반지름이 2일때 원의 넓이는 {pi*2*2}'"
   ]
  },
  {
   "cell_type": "markdown",
   "metadata": {
    "slideshow": {
     "slide_type": "slide"
    }
   },
   "source": [
    "# 연산자\n",
    "\n",
    "## 산술 연산자\n",
    "Python에서는 기본적인 사칙연산이 가능합니다. \n",
    "\n",
    "|연산자|내용|\n",
    "|----|---|\n",
    "|+|덧셈|\n",
    "|-|뺄셈|\n",
    "|\\*|곱셈|\n",
    "|/|나눗셈|\n",
    "|//|몫|\n",
    "|%|나머지(modulo)|\n",
    "|\\*\\*|거듭제곱|\n"
   ]
  },
  {
   "cell_type": "code",
   "execution_count": 116,
   "metadata": {
    "scrolled": true,
    "slideshow": {
     "slide_type": "subslide"
    }
   },
   "outputs": [
    {
     "name": "stdout",
     "output_type": "stream",
     "text": [
      "2.5\n",
      "2\n",
      "2\n",
      "1\n"
     ]
    }
   ],
   "source": [
    "print(5/2)\n",
    "print(5//2)\n",
    "print(int(5/2)) #실수를 정수로 변환 소수점은 버림함\n",
    "print(5%2)"
   ]
  },
  {
   "cell_type": "code",
   "execution_count": null,
   "metadata": {
    "slideshow": {
     "slide_type": "subslide"
    }
   },
   "outputs": [],
   "source": []
  },
  {
   "cell_type": "markdown",
   "metadata": {
    "slideshow": {
     "slide_type": "subslide"
    }
   },
   "source": [
    "- 함수로 구현된 연산도 있다."
   ]
  },
  {
   "cell_type": "code",
   "execution_count": 120,
   "metadata": {
    "slideshow": {
     "slide_type": "-"
    }
   },
   "outputs": [
    {
     "name": "stdout",
     "output_type": "stream",
     "text": [
      "(2, 1)\n",
      "2 1\n"
     ]
    }
   ],
   "source": [
    "print(divmod(5,2)) #나눗셈 함수\n",
    "q, r = divmod(5,2)\n",
    "print(q, r)"
   ]
  },
  {
   "cell_type": "markdown",
   "metadata": {
    "slideshow": {
     "slide_type": "subslide"
    }
   },
   "source": [
    "* 양수/음수도 표현 가능합니다."
   ]
  },
  {
   "cell_type": "code",
   "execution_count": 121,
   "metadata": {
    "scrolled": true
   },
   "outputs": [
    {
     "name": "stdout",
     "output_type": "stream",
     "text": [
      "-4\n",
      "-4\n",
      "4\n"
     ]
    }
   ],
   "source": [
    "positive_num = 4\n",
    "print(-positive_num)\n",
    "negative_num = -4\n",
    "print(+negative_num)\n",
    "print(-negative_num)"
   ]
  },
  {
   "cell_type": "markdown",
   "metadata": {
    "slideshow": {
     "slide_type": "slide"
    }
   },
   "source": [
    "## 비교 연산자\n",
    "\n",
    "우리가 수학에서 배운 연산자와 동일하게 값을 비교할 수 있습니다.\n",
    "\n",
    "|연산자|내용|\n",
    "|----|---|\n",
    "|a > b|초과|\n",
    "|a < b|미만|\n",
    "|a >= b|이상|\n",
    "|a <= b|이하|\n",
    "|a == b|같음|\n",
    "|a != b|같지않음|\n",
    "\n"
   ]
  },
  {
   "cell_type": "code",
   "execution_count": 122,
   "metadata": {
    "slideshow": {
     "slide_type": "subslide"
    }
   },
   "outputs": [
    {
     "data": {
      "text/plain": [
       "False"
      ]
     },
     "execution_count": 122,
     "metadata": {},
     "output_type": "execute_result"
    }
   ],
   "source": [
    "3 > 6"
   ]
  },
  {
   "cell_type": "code",
   "execution_count": 123,
   "metadata": {},
   "outputs": [
    {
     "data": {
      "text/plain": [
       "False"
      ]
     },
     "execution_count": 123,
     "metadata": {},
     "output_type": "execute_result"
    }
   ],
   "source": [
    "3 != 3"
   ]
  },
  {
   "cell_type": "code",
   "execution_count": 126,
   "metadata": {},
   "outputs": [
    {
     "name": "stdout",
     "output_type": "stream",
     "text": [
      "True\n",
      "False\n"
     ]
    }
   ],
   "source": [
    "print(3.0 == 3)\n",
    "print(3.0 is 3)"
   ]
  },
  {
   "cell_type": "code",
   "execution_count": 128,
   "metadata": {},
   "outputs": [
    {
     "data": {
      "text/plain": [
       "False"
      ]
     },
     "execution_count": 128,
     "metadata": {},
     "output_type": "execute_result"
    }
   ],
   "source": [
    "'Hi' == 'hi'"
   ]
  },
  {
   "cell_type": "markdown",
   "metadata": {
    "slideshow": {
     "slide_type": "slide"
    }
   },
   "source": [
    "## 논리 연산자\n",
    "\n",
    "|연산자|내용|\n",
    "|---|---|\n",
    "|a and b|a와 b 모두 True시만 True|\n",
    "|a or b|a 와 b 모두 False시만 False|\n",
    "|not a|True -> False, False -> True|\n",
    "\n",
    "- 우리가 보통 알고 있는 `&` `|`은 파이썬에서 비트 연산자이다.\n",
    "- 그리고 `&&`, `||`는 파이썬에 없는 문법이다."
   ]
  },
  {
   "cell_type": "code",
   "execution_count": 130,
   "metadata": {
    "slideshow": {
     "slide_type": "subslide"
    }
   },
   "outputs": [
    {
     "name": "stdout",
     "output_type": "stream",
     "text": [
      "True\n",
      "False\n",
      "False\n",
      "False\n"
     ]
    }
   ],
   "source": [
    "print(True and True)\n",
    "print(True and False)\n",
    "print(False and True)\n",
    "print(False and False)"
   ]
  },
  {
   "cell_type": "code",
   "execution_count": 131,
   "metadata": {},
   "outputs": [
    {
     "name": "stdout",
     "output_type": "stream",
     "text": [
      "True\n",
      "True\n",
      "True\n",
      "False\n"
     ]
    }
   ],
   "source": [
    "print(True or True)\n",
    "print(True or False)\n",
    "print(False or True)\n",
    "print(False or False)"
   ]
  },
  {
   "cell_type": "code",
   "execution_count": 132,
   "metadata": {
    "slideshow": {
     "slide_type": "subslide"
    }
   },
   "outputs": [
    {
     "name": "stdout",
     "output_type": "stream",
     "text": [
      "False\n",
      "True\n"
     ]
    }
   ],
   "source": [
    "print(not True)\n",
    "print(not 0)"
   ]
  },
  {
   "cell_type": "code",
   "execution_count": 1,
   "metadata": {
    "slideshow": {
     "slide_type": "subslide"
    }
   },
   "outputs": [
    {
     "name": "stdout",
     "output_type": "stream",
     "text": [
      "5\n",
      "0\n",
      "0\n",
      "0\n"
     ]
    }
   ],
   "source": [
    "# quiz!\n",
    "print(3 and 5)\n",
    "print(0 and 3)\n",
    "print(3 and 0)\n",
    "print(0 and 0)"
   ]
  },
  {
   "cell_type": "code",
   "execution_count": 138,
   "metadata": {},
   "outputs": [
    {
     "name": "stdout",
     "output_type": "stream",
     "text": [
      "3\n",
      "3\n",
      "3\n",
      "0\n"
     ]
    }
   ],
   "source": [
    "# quiz!\n",
    "print(3 or 5)\n",
    "print(0 or 3)\n",
    "print(3 or 0)\n",
    "print(0 or 0)"
   ]
  },
  {
   "cell_type": "markdown",
   "metadata": {
    "slideshow": {
     "slide_type": "subslide"
    }
   },
   "source": [
    "* 파이썬에서 and는 a가 거짓이면 a를 리턴하고, 참이면 b를 리턴한다.\n",
    "* 파이썬에서 or은 a가 참이면 a를 리턴하고, 거짓이면 b를 리턴한다.\n"
   ]
  },
  {
   "cell_type": "markdown",
   "metadata": {
    "slideshow": {
     "slide_type": "slide"
    }
   },
   "source": [
    "## 복합 연산자\n",
    "\n",
    "복합 연산자는 연산과 대입이 함께 이뤄진다. \n",
    "\n",
    "가장 많이 활용되는 경우는 반복문을 통해서 갯수를 카운트하거나 할 때 활용된다.\n",
    "\n",
    "|연산자|내용|\n",
    "|----|---|\n",
    "|a += b|a = a + b|\n",
    "|a -= b|a = a - b|\n",
    "|a \\*= b|a = a \\* b|\n",
    "|a /= b|a = a / b|\n",
    "|a //= b|a = a // b|\n",
    "|a %= b|a = a % b|\n",
    "|a \\*\\*= b|a = a ** b|"
   ]
  },
  {
   "cell_type": "code",
   "execution_count": null,
   "metadata": {
    "slideshow": {
     "slide_type": "subslide"
    }
   },
   "outputs": [],
   "source": []
  },
  {
   "cell_type": "markdown",
   "metadata": {
    "slideshow": {
     "slide_type": "slide"
    }
   },
   "source": [
    "## 기타 연산자\n",
    "\n",
    "### Concatenation\n",
    "\n",
    "숫자가 아닌 자료형은 `+` 연산자를 통해 합칠 수 있다."
   ]
  },
  {
   "cell_type": "code",
   "execution_count": 139,
   "metadata": {
    "slideshow": {
     "slide_type": "-"
    }
   },
   "outputs": [
    {
     "name": "stdout",
     "output_type": "stream",
     "text": [
      "0\n",
      "1\n",
      "2\n",
      "3\n",
      "4\n"
     ]
    }
   ],
   "source": [
    "cnt = 0\n",
    "while cnt < 5:\n",
    "    print(cnt)\n",
    "    cnt+=1"
   ]
  },
  {
   "cell_type": "code",
   "execution_count": 20,
   "metadata": {},
   "outputs": [
    {
     "name": "stdout",
     "output_type": "stream",
     "text": [
      "hi, bye!\n",
      "[1, 2, 3, 4, 5, 6]\n"
     ]
    }
   ],
   "source": [
    "print('hi, ' + 'bye!')\n",
    "print([1,2,3] + [4,5,6])"
   ]
  },
  {
   "cell_type": "markdown",
   "metadata": {
    "slideshow": {
     "slide_type": "subslide"
    }
   },
   "source": [
    "### Containment Test\n",
    "\n",
    "`in` 연산자를 통해 속해있는지 여부를 확인할 수 있다."
   ]
  },
  {
   "cell_type": "code",
   "execution_count": 142,
   "metadata": {
    "slideshow": {
     "slide_type": "-"
    }
   },
   "outputs": [
    {
     "data": {
      "text/plain": [
       "True"
      ]
     },
     "execution_count": 142,
     "metadata": {},
     "output_type": "execute_result"
    }
   ],
   "source": [
    "'a' in 'apple'"
   ]
  },
  {
   "cell_type": "code",
   "execution_count": 143,
   "metadata": {},
   "outputs": [
    {
     "data": {
      "text/plain": [
       "True"
      ]
     },
     "execution_count": 143,
     "metadata": {},
     "output_type": "execute_result"
    }
   ],
   "source": [
    "1 in [1,2,3]"
   ]
  },
  {
   "cell_type": "code",
   "execution_count": 146,
   "metadata": {},
   "outputs": [
    {
     "data": {
      "text/plain": [
       "True"
      ]
     },
     "execution_count": 146,
     "metadata": {},
     "output_type": "execute_result"
    }
   ],
   "source": [
    "5 in range(6)"
   ]
  },
  {
   "cell_type": "markdown",
   "metadata": {
    "slideshow": {
     "slide_type": "subslide"
    }
   },
   "source": [
    "### Identity\n",
    "\n",
    "`is` 연산자를 통해 동일한 object인지 확인할 수 있다. (나중에 Class를 배우고 다시 학습)\n"
   ]
  },
  {
   "cell_type": "code",
   "execution_count": 148,
   "metadata": {
    "slideshow": {
     "slide_type": "-"
    }
   },
   "outputs": [
    {
     "name": "stdout",
     "output_type": "stream",
     "text": [
      "1703368450512\n",
      "1703368451280\n"
     ]
    },
    {
     "data": {
      "text/plain": [
       "False"
      ]
     },
     "execution_count": 148,
     "metadata": {},
     "output_type": "execute_result"
    }
   ],
   "source": [
    "a = 1004\n",
    "b = 1004\n",
    "print(id(a))\n",
    "print(id(b))\n",
    "a is b"
   ]
  },
  {
   "cell_type": "code",
   "execution_count": 149,
   "metadata": {},
   "outputs": [
    {
     "name": "stdout",
     "output_type": "stream",
     "text": [
      "140726804132752\n",
      "140726804132752\n"
     ]
    },
    {
     "data": {
      "text/plain": [
       "True"
      ]
     },
     "execution_count": 149,
     "metadata": {},
     "output_type": "execute_result"
    }
   ],
   "source": [
    "a = 3\n",
    "b = 3\n",
    "print(id(a))\n",
    "print(id(b))\n",
    "a is b  # 파이썬에서는 -1~256까지 주소값을 할당해 놓았기 때문에."
   ]
  },
  {
   "cell_type": "markdown",
   "metadata": {
    "slideshow": {
     "slide_type": "subslide"
    }
   },
   "source": [
    "### Indexing/Slicing\n",
    "\n",
    "`[]`를 통한 값 접근 및 `[:]`을 통한 슬라이싱. (다음 챕터를 배우면서 추가 학습)"
   ]
  },
  {
   "cell_type": "code",
   "execution_count": 23,
   "metadata": {
    "slideshow": {
     "slide_type": "-"
    }
   },
   "outputs": [
    {
     "name": "stdout",
     "output_type": "stream",
     "text": [
      "hello\n",
      "2\n"
     ]
    }
   ],
   "source": [
    "print('hello world'[0:5])\n",
    "print([1,[2,3]][1][0])"
   ]
  },
  {
   "cell_type": "markdown",
   "metadata": {
    "slideshow": {
     "slide_type": "slide"
    }
   },
   "source": [
    "## 연산자 우선순위\n",
    "\n",
    "0. `()`을 통한 grouping\n",
    "\n",
    "1. Slicing\n",
    "\n",
    "2. Indexing\n",
    "\n",
    "3. 제곱연산자\n",
    "    \\*\\*\n",
    "\n",
    "4. 단항연산자 \n",
    "    +, - (음수/양수 부호)\n",
    "\n",
    "5. 산술연산자\n",
    "    \\*, /, %\n",
    "    \n",
    "6. 산술연산자\n",
    "    +, -\n",
    " \n",
    "7. 비교연산자, `in`, `is`\n",
    "\n",
    "8. `not`\n",
    "\n",
    "9. `and` \n",
    "\n",
    "10. `or`"
   ]
  },
  {
   "cell_type": "code",
   "execution_count": 152,
   "metadata": {
    "slideshow": {
     "slide_type": "-"
    }
   },
   "outputs": [
    {
     "data": {
      "text/plain": [
       "16.5"
      ]
     },
     "execution_count": 152,
     "metadata": {},
     "output_type": "execute_result"
    }
   ],
   "source": [
    "3**2/2+8*3/2"
   ]
  },
  {
   "cell_type": "markdown",
   "metadata": {
    "slideshow": {
     "slide_type": "slide"
    }
   },
   "source": [
    "# 기초 형변환(Type conversion, Typecasting)\n",
    "\n",
    "\n",
    "파이썬에서 데이터타입은 서로 변환할 수 있다.\n",
    "\n",
    "## 암시적 형변환(Implicit Type Conversion)\n",
    "사용자가 의도하지 않았지만, 파이썬 내부적으로 자동으로 형변환 하는 경우이다.\n",
    "아래의 상황에서만 가능하다.\n",
    "* bool\n",
    "* Numbers (int, float, complex)"
   ]
  },
  {
   "cell_type": "code",
   "execution_count": 153,
   "metadata": {
    "slideshow": {
     "slide_type": "subslide"
    }
   },
   "outputs": [
    {
     "data": {
      "text/plain": [
       "4"
      ]
     },
     "execution_count": 153,
     "metadata": {},
     "output_type": "execute_result"
    }
   ],
   "source": [
    "True + 3  #True의 기본값은 1"
   ]
  },
  {
   "cell_type": "code",
   "execution_count": 155,
   "metadata": {},
   "outputs": [],
   "source": [
    "int_num = 3\n",
    "float_num = 5.0\n",
    "complex_num = 3 + 5j"
   ]
  },
  {
   "cell_type": "code",
   "execution_count": 157,
   "metadata": {
    "slideshow": {
     "slide_type": "subslide"
    }
   },
   "outputs": [
    {
     "name": "stdout",
     "output_type": "stream",
     "text": [
      "(6+5j)\n",
      "<class 'complex'>\n"
     ]
    }
   ],
   "source": [
    "print(int_num + complex_num)\n",
    "print(type(int_num + complex_num))"
   ]
  },
  {
   "cell_type": "code",
   "execution_count": null,
   "metadata": {},
   "outputs": [],
   "source": []
  },
  {
   "cell_type": "markdown",
   "metadata": {
    "slideshow": {
     "slide_type": "slide"
    }
   },
   "source": [
    "## 명시적 형변환(Explicit Type Conversion)\n",
    "\n",
    "위의 상황을 제외하고는 모두 명시적으로 형 변환을 해주어야한다.\n",
    "\n",
    "* string -> integer  : 형식에 맞는 숫자만 가능\n",
    "* integer -> string : 모두 가능\n",
    "\n",
    "암시적 형변환이 되는 모든 경우도 명시적으로 형변환이 가능하다.\n",
    "\n",
    "* `int()` : string, float를 int로 변환\n",
    "* `float()` : string, int를 float로 변환\n",
    "* `str()` : int, float, list, tuple, dictionary를 문자열로 변환\n",
    "\n",
    "`list(), tuple()` 등은 다음 챕터에서 배울 예정이다."
   ]
  },
  {
   "cell_type": "code",
   "execution_count": 25,
   "metadata": {
    "slideshow": {
     "slide_type": "subslide"
    }
   },
   "outputs": [
    {
     "name": "stdout",
     "output_type": "stream",
     "text": [
      "1등\n",
      "1등\n"
     ]
    }
   ],
   "source": [
    "# integer와 string 사이의 관계는 명시적으로 형변환을 해줘야만 한다.\n",
    "print(str(1)+ '등')\n",
    "print(f'{1}등')"
   ]
  },
  {
   "cell_type": "code",
   "execution_count": 27,
   "metadata": {},
   "outputs": [
    {
     "name": "stdout",
     "output_type": "stream",
     "text": [
      "0.30000000000000004\n"
     ]
    }
   ],
   "source": [
    "3 == '3'\n",
    "int(a)\n",
    "print(a)"
   ]
  },
  {
   "cell_type": "code",
   "execution_count": null,
   "metadata": {
    "slideshow": {
     "slide_type": "subslide"
    }
   },
   "outputs": [],
   "source": []
  },
  {
   "cell_type": "code",
   "execution_count": null,
   "metadata": {},
   "outputs": [],
   "source": []
  },
  {
   "cell_type": "code",
   "execution_count": 28,
   "metadata": {
    "scrolled": true,
    "slideshow": {
     "slide_type": "subslide"
    }
   },
   "outputs": [
    {
     "ename": "ValueError",
     "evalue": "invalid literal for int() with base 10: 'hi'",
     "output_type": "error",
     "traceback": [
      "\u001b[1;31m---------------------------------------------------------------------------\u001b[0m",
      "\u001b[1;31mValueError\u001b[0m                                Traceback (most recent call last)",
      "\u001b[1;32m<ipython-input-28-388a321899ce>\u001b[0m in \u001b[0;36m<module>\u001b[1;34m\u001b[0m\n\u001b[0;32m      1\u001b[0m \u001b[1;31m# string은 글씨가 숫자일때만 형변환이 가능하다.\u001b[0m\u001b[1;33m\u001b[0m\u001b[1;33m\u001b[0m\u001b[1;33m\u001b[0m\u001b[0m\n\u001b[0;32m      2\u001b[0m \u001b[0ma\u001b[0m \u001b[1;33m=\u001b[0m \u001b[1;34m'hi'\u001b[0m\u001b[1;33m\u001b[0m\u001b[1;33m\u001b[0m\u001b[0m\n\u001b[1;32m----> 3\u001b[1;33m \u001b[0mint\u001b[0m\u001b[1;33m(\u001b[0m\u001b[0ma\u001b[0m\u001b[1;33m)\u001b[0m\u001b[1;33m\u001b[0m\u001b[1;33m\u001b[0m\u001b[0m\n\u001b[0m",
      "\u001b[1;31mValueError\u001b[0m: invalid literal for int() with base 10: 'hi'"
     ]
    }
   ],
   "source": [
    "# string은 글씨가 숫자일때만 형변환이 가능하다.\n",
    "a = 'hi'\n",
    "int(a)"
   ]
  },
  {
   "cell_type": "code",
   "execution_count": 165,
   "metadata": {
    "slideshow": {
     "slide_type": "-"
    }
   },
   "outputs": [
    {
     "ename": "ValueError",
     "evalue": "invalid literal for int() with base 10: '3.5'",
     "output_type": "error",
     "traceback": [
      "\u001b[1;31m---------------------------------------------------------------------------\u001b[0m",
      "\u001b[1;31mValueError\u001b[0m                                Traceback (most recent call last)",
      "\u001b[1;32m<ipython-input-165-13fb0a6b7c00>\u001b[0m in \u001b[0;36m<module>\u001b[1;34m\u001b[0m\n\u001b[0;32m      1\u001b[0m \u001b[1;31m# string 3.5를 int로 변환할 수는 없다.\u001b[0m\u001b[1;33m\u001b[0m\u001b[1;33m\u001b[0m\u001b[1;33m\u001b[0m\u001b[0m\n\u001b[0;32m      2\u001b[0m \u001b[0ma\u001b[0m \u001b[1;33m=\u001b[0m \u001b[1;34m'3.5'\u001b[0m\u001b[1;33m\u001b[0m\u001b[1;33m\u001b[0m\u001b[0m\n\u001b[1;32m----> 3\u001b[1;33m \u001b[0mint\u001b[0m\u001b[1;33m(\u001b[0m\u001b[0ma\u001b[0m\u001b[1;33m)\u001b[0m\u001b[1;33m\u001b[0m\u001b[1;33m\u001b[0m\u001b[0m\n\u001b[0m",
      "\u001b[1;31mValueError\u001b[0m: invalid literal for int() with base 10: '3.5'"
     ]
    }
   ],
   "source": [
    "# string 3.5를 int로 변환할 수는 없다.\n",
    "a = '3.5'\n",
    "int(a)"
   ]
  },
  {
   "cell_type": "code",
   "execution_count": 32,
   "metadata": {
    "slideshow": {
     "slide_type": "subslide"
    }
   },
   "outputs": [
    {
     "data": {
      "text/plain": [
       "3"
      ]
     },
     "execution_count": 32,
     "metadata": {},
     "output_type": "execute_result"
    }
   ],
   "source": [
    "# float 3.5는 int로 변환이 가능하다.\n",
    "a = 3.5\n",
    "int(a)"
   ]
  },
  {
   "cell_type": "code",
   "execution_count": 166,
   "metadata": {},
   "outputs": [
    {
     "name": "stdout",
     "output_type": "stream",
     "text": [
      "58\n",
      "553\n"
     ]
    }
   ],
   "source": [
    "print(int('55')+3)\n",
    "print('55'+str(3))"
   ]
  },
  {
   "cell_type": "markdown",
   "metadata": {
    "slideshow": {
     "slide_type": "slide"
    }
   },
   "source": [
    "# 시퀀스(sequence) 자료형\n",
    "\n",
    "`시퀀스`는 데이터의 순서대로 나열된 형식을 나타낸다. \n",
    "\n",
    "**주의! 순서대로 나열된 것이 정렬되었다라는 뜻은 아니다.**\n",
    "\n",
    "파이썬에서 기본적인 시퀀스 타입은 다음과 같다.\n",
    "\n",
    "1. 리스트(list)\n",
    "\n",
    "2. 튜플(tuple)\n",
    "\n",
    "3. 레인지(range)\n",
    "\n",
    "4. 문자열(string)\n",
    "\n",
    "5. 바이너리(binary) : 따로 다루지는 않습니다.\n"
   ]
  },
  {
   "cell_type": "markdown",
   "metadata": {
    "slideshow": {
     "slide_type": "slide"
    }
   },
   "source": [
    "\n",
    "## `list`\n",
    "\n",
    "<center><img src=\"./images/01/list.png\", alt=\"list figure\"/></center>"
   ]
  },
  {
   "cell_type": "markdown",
   "metadata": {
    "slideshow": {
     "slide_type": "subslide"
    }
   },
   "source": [
    "**활용법**\n",
    "```python\n",
    "[value1, value2, value3]\n",
    "```\n",
    "\n",
    "리스트는 대괄호`[]` 를 통해 만들 수 있습니다.\n",
    "\n",
    "값에 대한 접근은 `list[i]`를 통해 합니다."
   ]
  },
  {
   "cell_type": "code",
   "execution_count": 168,
   "metadata": {},
   "outputs": [
    {
     "name": "stdout",
     "output_type": "stream",
     "text": [
      "<class 'list'>\n"
     ]
    }
   ],
   "source": [
    "l = []\n",
    "print(type(l))"
   ]
  },
  {
   "cell_type": "code",
   "execution_count": 169,
   "metadata": {
    "slideshow": {
     "slide_type": "-"
    }
   },
   "outputs": [
    {
     "name": "stdout",
     "output_type": "stream",
     "text": [
      "['서울', '대전', '구미', '광주']\n"
     ]
    }
   ],
   "source": [
    "location = ['서울', '대전', '구미', '광주']\n",
    "print(location)"
   ]
  },
  {
   "cell_type": "code",
   "execution_count": 170,
   "metadata": {},
   "outputs": [
    {
     "name": "stdout",
     "output_type": "stream",
     "text": [
      "구미\n"
     ]
    }
   ],
   "source": [
    "print(location[2])"
   ]
  },
  {
   "cell_type": "markdown",
   "metadata": {
    "slideshow": {
     "slide_type": "slide"
    }
   },
   "source": [
    "## `tuple`\n",
    "\n",
    "**활용법**\n",
    "```python\n",
    "(value1, value2)\n",
    "```\n",
    "\n",
    "튜플은 리스트와 유사하지만, `()`로 묶어서 표현합니다.\n",
    "\n",
    "그리고 tuple은 수정 불가능(immutable)하고, 읽을 수 밖에 없습니다.\n",
    "\n",
    "직접 사용하는 것보다는 파이썬 내부에서 사용하고 있습니다."
   ]
  },
  {
   "cell_type": "code",
   "execution_count": 36,
   "metadata": {
    "slideshow": {
     "slide_type": "subslide"
    }
   },
   "outputs": [
    {
     "name": "stdout",
     "output_type": "stream",
     "text": [
      "<class 'tuple'>\n",
      "<class 'tuple'>\n",
      "1\n",
      "2\n",
      "3\n"
     ]
    },
    {
     "data": {
      "text/plain": [
       "tuple"
      ]
     },
     "execution_count": 36,
     "metadata": {},
     "output_type": "execute_result"
    }
   ],
   "source": [
    "t = (1,2)\n",
    "print(type(t))\n",
    "# 이렇게도 만들 수 있습니다.\n",
    "t = 1, 2, 3\n",
    "print(type(t))\n",
    "for i in t:\n",
    "    print(i)\n",
    "b = 2,3,4,5,6,2,\n",
    "type(b)"
   ]
  },
  {
   "cell_type": "code",
   "execution_count": 38,
   "metadata": {
    "slideshow": {
     "slide_type": "subslide"
    }
   },
   "outputs": [
    {
     "name": "stdout",
     "output_type": "stream",
     "text": [
      "1\n",
      "2\n"
     ]
    },
    {
     "data": {
      "text/plain": [
       "int"
      ]
     },
     "execution_count": 38,
     "metadata": {},
     "output_type": "execute_result"
    }
   ],
   "source": [
    "# 파이썬 내부에서는 다음과 같이 활용됩니다.\n",
    "# 앞선 2. 변수 및 자료형 예제에서 사용된 코드입니다.\n",
    "x, y = 1, 2\n",
    "print(x)\n",
    "print(y)\n",
    "type(x)"
   ]
  },
  {
   "cell_type": "code",
   "execution_count": 39,
   "metadata": {},
   "outputs": [
    {
     "name": "stdout",
     "output_type": "stream",
     "text": [
      "1\n",
      "2\n"
     ]
    }
   ],
   "source": [
    "x, y = (1, 2)   #  x, y = 1, 2가 할당되는 방식\n",
    "print(x)\n",
    "print(y)"
   ]
  },
  {
   "cell_type": "code",
   "execution_count": 176,
   "metadata": {
    "slideshow": {
     "slide_type": "subslide"
    }
   },
   "outputs": [
    {
     "name": "stdout",
     "output_type": "stream",
     "text": [
      "2\n",
      "1\n"
     ]
    }
   ],
   "source": [
    "# 아래의 변수의 값을 swap하는 코드 역시 tuple을 활용하고 있습니다. \n",
    "x, y = y, x\n",
    "print(x)\n",
    "print(y)"
   ]
  },
  {
   "cell_type": "markdown",
   "metadata": {
    "slideshow": {
     "slide_type": "slide"
    }
   },
   "source": [
    "##  `range()`\n",
    "\n",
    "레인지는 숫자의 시퀀스를 나타내기 위해 사용됩니다.\n",
    "\n",
    "기본형 : `range(n)` \n",
    "\n",
    "\n",
    "> 0부터 n-1까지 값을 가짐\n",
    "\n",
    "\n",
    "범위 지정 : `range(n, m)` \n",
    "\n",
    "> n부터 m-1까지 값을 가짐\n",
    "\n",
    "범위 및 스텝 지정 : `range(n, m, s)`\n",
    "\n",
    "> n부터 m-1까지 +s만큼 증가한다"
   ]
  },
  {
   "cell_type": "code",
   "execution_count": 178,
   "metadata": {
    "slideshow": {
     "slide_type": "subslide"
    }
   },
   "outputs": [
    {
     "name": "stdout",
     "output_type": "stream",
     "text": [
      "<class 'range'>\n"
     ]
    }
   ],
   "source": [
    "print(type(range(1)))"
   ]
  },
  {
   "cell_type": "code",
   "execution_count": 179,
   "metadata": {},
   "outputs": [
    {
     "name": "stdout",
     "output_type": "stream",
     "text": [
      "range(0, 10)\n"
     ]
    },
    {
     "data": {
      "text/plain": [
       "range(0, 10)"
      ]
     },
     "execution_count": 179,
     "metadata": {},
     "output_type": "execute_result"
    }
   ],
   "source": [
    "print(range(10))\n",
    "range(0, 10)"
   ]
  },
  {
   "cell_type": "code",
   "execution_count": 180,
   "metadata": {},
   "outputs": [
    {
     "name": "stdout",
     "output_type": "stream",
     "text": [
      "range(4, 9)\n"
     ]
    }
   ],
   "source": [
    "print(range(4,9))\n"
   ]
  },
  {
   "cell_type": "code",
   "execution_count": 50,
   "metadata": {},
   "outputs": [
    {
     "name": "stdout",
     "output_type": "stream",
     "text": [
      "range(0, -10, -2)\n",
      "[0, -2, -4, -6, -8]\n",
      "[10, 9, 8, 7, 6, 5, 4, 3, 2, 1, 0, -1]\n"
     ]
    }
   ],
   "source": [
    "print(range(0, -10, -2))\n",
    "print(list(range(0, -10, -2)))\n",
    "print(list(range(10,-2,-1)))"
   ]
  },
  {
   "cell_type": "markdown",
   "metadata": {
    "slideshow": {
     "slide_type": "slide"
    }
   },
   "source": [
    "\n",
    "## 시퀀스에서 활용할 수 있는 연산자/함수 \n",
    "\n",
    "|operation|설명|\n",
    "|---------|---|\n",
    "|x in s\t|containment test|\n",
    "|x not in s|containment test|\n",
    "|s1 + s2|concatenation|\n",
    "|s * n|n번만큼 반복하여 더하기\n",
    "|s[i]|indexing|\n",
    "|s[i:j]|slicing|\n",
    "|s[i:j:k]|k간격으로 slicing|\n",
    "|len(s)|길이|\n",
    "|min(s)|최솟값|\n",
    "|max(s)|최댓값|\n",
    "|s.count(x)|x의 갯수|"
   ]
  },
  {
   "cell_type": "code",
   "execution_count": 182,
   "metadata": {
    "slideshow": {
     "slide_type": "subslide"
    }
   },
   "outputs": [
    {
     "name": "stdout",
     "output_type": "stream",
     "text": [
      "False\n",
      "True\n"
     ]
    }
   ],
   "source": [
    "s = 'string'\n",
    "print('a' in s)\n",
    "l = [1,2,3,5,1]\n",
    "print(3 in l)"
   ]
  },
  {
   "cell_type": "code",
   "execution_count": 183,
   "metadata": {
    "slideshow": {
     "slide_type": "subslide"
    }
   },
   "outputs": [
    {
     "name": "stdout",
     "output_type": "stream",
     "text": [
      "안녕하세요\n",
      "[1, 2, 5, 6]\n"
     ]
    }
   ],
   "source": [
    "# concatenation\n",
    "print('안녕'+'하세요')\n",
    "print([1,2]+[5,6])"
   ]
  },
  {
   "cell_type": "code",
   "execution_count": 52,
   "metadata": {
    "slideshow": {
     "slide_type": "subslide"
    }
   },
   "outputs": [
    {
     "data": {
      "text/plain": [
       "[0, 0, 0, 0, 0, 0]"
      ]
     },
     "execution_count": 52,
     "metadata": {},
     "output_type": "execute_result"
    }
   ],
   "source": [
    "[0] * 6"
   ]
  },
  {
   "cell_type": "code",
   "execution_count": 186,
   "metadata": {
    "slideshow": {
     "slide_type": "subslide"
    }
   },
   "outputs": [
    {
     "name": "stdout",
     "output_type": "stream",
     "text": [
      "h\n",
      "1\n"
     ]
    }
   ],
   "source": [
    "# indexing과 slicing\n",
    "print('hello world'[0])\n",
    "print([1,2,3][0])"
   ]
  },
  {
   "cell_type": "code",
   "execution_count": 190,
   "metadata": {
    "slideshow": {
     "slide_type": "-"
    }
   },
   "outputs": [
    {
     "name": "stdout",
     "output_type": "stream",
     "text": [
      "hlowr\n",
      "1\n"
     ]
    }
   ],
   "source": [
    "print('hello world'[0:10])\n",
    "print([1,2,3][0])"
   ]
  },
  {
   "cell_type": "code",
   "execution_count": 192,
   "metadata": {
    "slideshow": {
     "slide_type": "subslide"
    }
   },
   "outputs": [
    {
     "data": {
      "text/plain": [
       "[1, 3, 5]"
      ]
     },
     "execution_count": 192,
     "metadata": {},
     "output_type": "execute_result"
    }
   ],
   "source": [
    "l = [1,2,3,4,5,6,7,8,9]\n",
    "l[0:5:2]"
   ]
  },
  {
   "cell_type": "code",
   "execution_count": 193,
   "metadata": {},
   "outputs": [
    {
     "data": {
      "text/plain": [
       "9"
      ]
     },
     "execution_count": 193,
     "metadata": {},
     "output_type": "execute_result"
    }
   ],
   "source": [
    "# 기타 내장함수\n",
    "len(l)"
   ]
  },
  {
   "cell_type": "code",
   "execution_count": 199,
   "metadata": {},
   "outputs": [
    {
     "data": {
      "text/plain": [
       "1"
      ]
     },
     "execution_count": 199,
     "metadata": {},
     "output_type": "execute_result"
    }
   ],
   "source": [
    "min(l)\n"
   ]
  },
  {
   "cell_type": "code",
   "execution_count": 60,
   "metadata": {},
   "outputs": [
    {
     "name": "stdout",
     "output_type": "stream",
     "text": [
      "['__and__', '__class__', '__contains__', '__delattr__', '__dir__', '__doc__', '__eq__', '__format__', '__ge__', '__getattribute__', '__gt__', '__hash__', '__iand__', '__init__', '__init_subclass__', '__ior__', '__isub__', '__iter__', '__ixor__', '__le__', '__len__', '__lt__', '__ne__', '__new__', '__or__', '__rand__', '__reduce__', '__reduce_ex__', '__repr__', '__ror__', '__rsub__', '__rxor__', '__setattr__', '__sizeof__', '__str__', '__sub__', '__subclasshook__', '__xor__', 'add', 'clear', 'copy', 'difference', 'difference_update', 'discard', 'intersection', 'intersection_update', 'isdisjoint', 'issubset', 'issuperset', 'pop', 'remove', 'symmetric_difference', 'symmetric_difference_update', 'union', 'update']\n"
     ]
    }
   ],
   "source": [
    "max(l)\n",
    "print(dir(set))"
   ]
  },
  {
   "cell_type": "code",
   "execution_count": 202,
   "metadata": {
    "slideshow": {
     "slide_type": "subslide"
    }
   },
   "outputs": [
    {
     "name": "stdout",
     "output_type": "stream",
     "text": [
      "3\n",
      "2\n"
     ]
    }
   ],
   "source": [
    "l = [1, 2, 1, 3, 1, 5]\n",
    "print(l.count(1))\n",
    "s = 'hello world'\n",
    "print(s.count('o'))"
   ]
  },
  {
   "cell_type": "markdown",
   "metadata": {
    "slideshow": {
     "slide_type": "slide"
    }
   },
   "source": [
    "# set, dictionary\n",
    "\n",
    "* `set`과 `dictionary`는 기본적으로 순서가 없습니다."
   ]
  },
  {
   "cell_type": "markdown",
   "metadata": {
    "slideshow": {
     "slide_type": "-"
    }
   },
   "source": [
    "## `set`\n",
    "\n",
    "세트는 수학에서의 집합과 동일하게 처리됩니다. \n",
    "\n",
    "세트는 중괄호`{}`를 통해 만들며, 순서가 없고 중복된 값이 없습니다.\n",
    "\n",
    "**활용법**\n",
    "```python\n",
    "{value1, value2, value3}\n",
    "```\n",
    "\n",
    "|연산자/함수|설명|\n",
    "|---|---|\n",
    "|a - b|차집합|\n",
    "|a \\| b|합집합|\n",
    "|a & b|교집합|\n",
    "|a.union(b)|합집합|\n",
    "|a.intersection(b)|교집합|"
   ]
  },
  {
   "cell_type": "code",
   "execution_count": 80,
   "metadata": {
    "slideshow": {
     "slide_type": "subslide"
    }
   },
   "outputs": [
    {
     "name": "stdout",
     "output_type": "stream",
     "text": [
      "{1, 2}\n",
      "{1, 2, 3, 6, 9}\n",
      "{3}\n",
      "{1, 2, 3, 4, 5, 6, 7}\n",
      "{3}\n",
      "{1, 2}\n"
     ]
    }
   ],
   "source": [
    "set_a = {1,2,3}\n",
    "set_b = {3,6,9}\n",
    "list_a= [1,2,3,4,5]\n",
    "list_b= [3,4,5,6,7]\n",
    "tuple_a= (2,3,4,5)\n",
    "tuple_b=(3,4,5,6,7)\n",
    "print(set_a - set_b)\n",
    "print(set_a | set_b)\n",
    "print(set_a & set_b)\n",
    "print(set_a.union(list_b))\n",
    "print(set_a.intersection(list_b))\n",
    "print(set_a.difference(tuple_b))"
   ]
  },
  {
   "cell_type": "code",
   "execution_count": null,
   "metadata": {},
   "outputs": [],
   "source": []
  },
  {
   "cell_type": "markdown",
   "metadata": {
    "slideshow": {
     "slide_type": "subslide"
    }
   },
   "source": [
    "* `set`을 활용하면 `list`의 중복된 값을 손쉽게 제거할 수 있습니다."
   ]
  },
  {
   "cell_type": "code",
   "execution_count": 204,
   "metadata": {},
   "outputs": [
    {
     "data": {
      "text/plain": [
       "{1, 2, 3}"
      ]
     },
     "execution_count": 204,
     "metadata": {},
     "output_type": "execute_result"
    }
   ],
   "source": [
    "list_a = [1,2,3,1,1,2]\n",
    "set(list_a)"
   ]
  },
  {
   "cell_type": "code",
   "execution_count": 206,
   "metadata": {},
   "outputs": [
    {
     "data": {
      "text/plain": [
       "[1, 2, 3]"
      ]
     },
     "execution_count": 206,
     "metadata": {},
     "output_type": "execute_result"
    }
   ],
   "source": [
    "list(set(list(list_a)))"
   ]
  },
  {
   "cell_type": "markdown",
   "metadata": {
    "slideshow": {
     "slide_type": "slide"
    }
   },
   "source": [
    "## `dictionary`\n",
    "\n",
    "<center><img src=\"./images/01/dictionary.png\"/></center> "
   ]
  },
  {
   "cell_type": "markdown",
   "metadata": {
    "slideshow": {
     "slide_type": "subslide"
    }
   },
   "source": [
    "**활용법**\n",
    "```python\n",
    "{Key1:Value1, Key2:Value2, Key3:Value3, ...}\n",
    "```\n",
    "\n",
    "* 딕셔너리는 `key`와 `value`가 쌍으로 이뤄져있으며, 궁극의 자료구조입니다. \n",
    "* `{}`를 통해 만들며, `dict()`로 만들 수도 있습니다.\n",
    "* `key`는 immutable한 모든 것이 가능하다. (불변값 : string, integer, float, boolean, tuple, range)\n",
    "* `value`는 `list`, `dictionary`를 포함한 모든 것이 가능하다."
   ]
  },
  {
   "cell_type": "code",
   "execution_count": 207,
   "metadata": {
    "slideshow": {
     "slide_type": "subslide"
    }
   },
   "outputs": [
    {
     "name": "stdout",
     "output_type": "stream",
     "text": [
      "<class 'dict'>\n"
     ]
    }
   ],
   "source": [
    "dict_a = {}\n",
    "print(type(dict_a))"
   ]
  },
  {
   "cell_type": "code",
   "execution_count": 210,
   "metadata": {},
   "outputs": [
    {
     "name": "stdout",
     "output_type": "stream",
     "text": [
      "{'서울': '02', '경기': '031', '경북': '054'}\n",
      "054\n"
     ]
    }
   ],
   "source": [
    "phone_book = {'서울':'02', '경기':'031', '경북':'054'}\n",
    "print(phone_book)\n",
    "print(phone_book['경북'])"
   ]
  },
  {
   "cell_type": "code",
   "execution_count": 212,
   "metadata": {
    "slideshow": {
     "slide_type": "subslide"
    }
   },
   "outputs": [
    {
     "name": "stdout",
     "output_type": "stream",
     "text": [
      "{1: 4, 2: 2, 3: 3}\n"
     ]
    }
   ],
   "source": [
    "# 중복된 key는 존재할 수가 없습니다.\n",
    "dict_b = {1:1, 2:2, 3:3, 1:4}\n",
    "print(dict_b)"
   ]
  },
  {
   "cell_type": "code",
   "execution_count": 213,
   "metadata": {},
   "outputs": [
    {
     "data": {
      "text/plain": [
       "dict_keys([1, 2, 3])"
      ]
     },
     "execution_count": 213,
     "metadata": {},
     "output_type": "execute_result"
    }
   ],
   "source": [
    "# 딕셔너리의 메소드를 활용하여 key와 value를 확인 해볼 수 있습니다.\n",
    "dict_b.keys()"
   ]
  },
  {
   "cell_type": "code",
   "execution_count": 214,
   "metadata": {},
   "outputs": [
    {
     "data": {
      "text/plain": [
       "dict_values([4, 2, 3])"
      ]
     },
     "execution_count": 214,
     "metadata": {},
     "output_type": "execute_result"
    }
   ],
   "source": [
    "dict_b.values()"
   ]
  },
  {
   "cell_type": "code",
   "execution_count": null,
   "metadata": {
    "slideshow": {
     "slide_type": "subslide"
    }
   },
   "outputs": [],
   "source": [
    "# 실습! 친구 전화번호부 딕셔너리를 작성해주세요."
   ]
  },
  {
   "cell_type": "markdown",
   "metadata": {
    "slideshow": {
     "slide_type": "slide"
    }
   },
   "source": [
    "# 정리\n",
    "## 데이터 타입\n",
    "<center><img src=\"./images/01/container.png\", alt=\"container\"/></center>"
   ]
  },
  {
   "cell_type": "markdown",
   "metadata": {},
   "source": [
    "## Type Conversion\n",
    "<center><img src=\"./images/01/typecasting.png\", alt=\"type casting\"/></center>"
   ]
  },
  {
   "cell_type": "code",
   "execution_count": 215,
   "metadata": {},
   "outputs": [
    {
     "name": "stdout",
     "output_type": "stream",
     "text": [
      "3\n"
     ]
    }
   ],
   "source": [
    "# 직접 확인해보세요!\n",
    "blood_types = ['A', 'B', 'A', 'O', 'AB', 'AB', 'O', 'A', 'B', 'O', 'B', 'AB']\n",
    "bt_a = 0\n",
    "bt_b = 0\n",
    "bt_o = 0\n",
    "bt_ab = 0\n",
    "for i in blood_types:\n",
    "    if i == 'A':\n",
    "        bt_a += 1\n",
    "    elif i == 'B':\n",
    "        bt_b += 1\n",
    "    elif i == 'O':\n",
    "        bt_o += 1\n",
    "    else:\n",
    "        bt_ab += 1   \n",
    "print(bt_a)"
   ]
  },
  {
   "cell_type": "code",
   "execution_count": null,
   "metadata": {},
   "outputs": [],
   "source": []
  }
 ],
 "metadata": {
  "celltoolbar": "Slideshow",
  "kernelspec": {
   "display_name": "Python 3",
   "language": "python",
   "name": "python3"
  },
  "language_info": {
   "codemirror_mode": {
    "name": "ipython",
    "version": 3
   },
   "file_extension": ".py",
   "mimetype": "text/x-python",
   "name": "python",
   "nbconvert_exporter": "python",
   "pygments_lexer": "ipython3",
   "version": "3.7.1"
  },
  "toc": {
   "base_numbering": 1,
   "nav_menu": {},
   "number_sections": true,
   "sideBar": false,
   "skip_h1_title": false,
   "title_cell": "Table of Contents",
   "title_sidebar": "Contents",
   "toc_cell": true,
   "toc_position": {
    "height": "581px",
    "left": "1632px",
    "top": "110px",
    "width": "288px"
   },
   "toc_section_display": true,
   "toc_window_display": true
  }
 },
 "nbformat": 4,
 "nbformat_minor": 2
}
